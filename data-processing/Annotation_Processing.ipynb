{
  "nbformat": 4,
  "nbformat_minor": 0,
  "metadata": {
    "colab": {
      "name": "Annotation_Processing.ipynb",
      "provenance": [],
      "collapsed_sections": []
    },
    "kernelspec": {
      "name": "python3",
      "display_name": "Python 3"
    },
    "language_info": {
      "name": "python"
    }
  },
  "cells": [
    {
      "cell_type": "markdown",
      "source": [
        "# Annotation Processing Notebook\n",
        "This notebook is used to process the annotated audio data. There will be four data csv files, one done by each member of the group. We will read in the \"label\" column from each of the self-annotated columns and perform two averages (mean and median) and have those be the true label to the data. \n",
        "\n",
        "Since the data was randomized in ordering for annotation, we should take care to **SORT THE COLUMNS** so that they line up again. \n",
        "\n",
        "We will then create a dataframe where column 1 is the filename, and column 2 will be the average annotated value. This will then be passed into the audio ML model for training."
      ],
      "metadata": {
        "id": "yL0eWHsBOykp"
      }
    },
    {
      "cell_type": "code",
      "source": [
        "# First, let's import all the libraries we will be working with.\n",
        "\n",
        "import pandas as pd\n",
        "import numpy as np"
      ],
      "metadata": {
        "id": "-vsTwZg-QgW4"
      },
      "execution_count": null,
      "outputs": []
    },
    {
      "cell_type": "code",
      "source": [
        "# Let's set up the dictionary mapping to convert labels to numbers, since\n",
        "# we can't average strings! We'll use the circumplex unit interval.\n",
        "binlabels = {\"Not agitated\":-1, \n",
        "             \"Slightly agitated\":-0.6, \n",
        "             \"Moderately agitated\":-0.2, \n",
        "             \"Significantly agitated\":0.2, \n",
        "             \"Highly agitated\":0.6, \n",
        "             \"Extremely agitated\":1.0}\n",
        "\n",
        "# We begin by reading in all of the csv files.\n",
        "\n",
        "names = [\"john\", \"kodai\", \"sam\", \"tanishk\"]\n",
        "\n",
        "base_path = \"./drive/MyDrive/CMPT419/data/\"\n",
        "john_csv = base_path+names[0]+\".csv\"\n",
        "kodai_csv = base_path+names[1]+\".csv\"\n",
        "sam_csv = base_path+names[2]+\".csv\"\n",
        "tanishk_csv = base_path+names[3]+\".csv\"\n",
        "\n",
        "group_csv_paths = [john_csv, kodai_csv, sam_csv, tanishk_csv]\n",
        "dframes = []\n",
        "for csv in group_csv_paths:\n",
        "  csvfile = pd.read_csv(csv)\n",
        "  dframes.append(csvfile)\n",
        "\n",
        "# Now, we should have a list of csv files. \n",
        "# We begin by sorting the dataframes according to filenames (url column).\n",
        "for i, dframe in enumerate(dframes):\n",
        "  dframe[\"url\"] = dframe[\"url\"].map(lambda x: x.split('-',1)[1])\n",
        "  dframe = dframe.replace({\"label\":binlabels})\n",
        "  dframes[i] = dframe.sort_values(\"url\")\n",
        "\n",
        "# Did the sort work correctly? Let's print them out.\n",
        "for i, dframe in enumerate(dframes):\n",
        "  outcols = dframe[dframe.columns[np.r_[0, 2]]].head(10)\n",
        "  print(f\"Dataframe {i+1}\\n{outcols}\\n\")\n"
      ],
      "metadata": {
        "id": "TSPXfBI5RVKS",
        "colab": {
          "base_uri": "https://localhost:8080/"
        },
        "outputId": "18effbb4-730f-4d48-e4cc-cab2ec75b7e9"
      },
      "execution_count": null,
      "outputs": [
        {
          "output_type": "stream",
          "name": "stdout",
          "text": [
            "Dataframe 1\n",
            "               url  label\n",
            "109   s10_an_1.wav    0.2\n",
            "875   s10_an_2.wav    0.2\n",
            "1223  s10_an_3.wav    0.6\n",
            "447   s10_an_4.wav    0.6\n",
            "442   s10_an_5.wav    0.2\n",
            "619   s10_di_1.wav   -0.2\n",
            "222   s10_di_2.wav   -0.2\n",
            "17    s10_di_3.wav   -0.2\n",
            "702   s10_di_4.wav   -0.2\n",
            "540   s10_di_5.wav   -0.2\n",
            "\n",
            "Dataframe 2\n",
            "               url  label\n",
            "1016  s10_an_1.wav    0.2\n",
            "1015  s10_an_2.wav    0.2\n",
            "1014  s10_an_3.wav   -0.2\n",
            "1013  s10_an_4.wav   -0.2\n",
            "1012  s10_an_5.wav   -0.2\n",
            "1011  s10_di_1.wav   -0.2\n",
            "1010  s10_di_2.wav   -0.6\n",
            "1009  s10_di_3.wav   -0.6\n",
            "1008  s10_di_4.wav   -0.2\n",
            "1007  s10_di_5.wav   -0.6\n",
            "\n",
            "Dataframe 3\n",
            "               url  label\n",
            "190   s10_an_1.wav    0.6\n",
            "382   s10_an_2.wav    1.0\n",
            "682   s10_an_3.wav    0.6\n",
            "104   s10_an_4.wav    0.6\n",
            "1250  s10_an_5.wav    0.6\n",
            "501   s10_di_1.wav    0.6\n",
            "250   s10_di_2.wav    0.6\n",
            "985   s10_di_3.wav    0.2\n",
            "257   s10_di_4.wav    0.6\n",
            "1160  s10_di_5.wav    0.6\n",
            "\n",
            "Dataframe 4\n",
            "               url  label\n",
            "1089  s10_an_1.wav    0.2\n",
            "754   s10_an_2.wav   -0.2\n",
            "663   s10_an_3.wav    0.2\n",
            "1171  s10_an_4.wav    0.2\n",
            "493   s10_an_5.wav   -0.2\n",
            "420   s10_di_1.wav   -0.2\n",
            "842   s10_di_2.wav   -0.2\n",
            "966   s10_di_3.wav   -0.2\n",
            "31    s10_di_4.wav   -0.2\n",
            "1215  s10_di_5.wav   -0.6\n",
            "\n"
          ]
        }
      ]
    },
    {
      "cell_type": "code",
      "source": [
        "# Before we calculate the average, we will need to extract the relevant\n",
        "# columns into one dataframe for processing. So, let's make an\n",
        "# intermediate dataframe.\n",
        "\n",
        "# Build the intermediate dataframe\n",
        "processframe = pd.DataFrame()\n",
        "# First column is the file name\n",
        "processframe[\"url\"] = dframes[0][\"url\"].tolist()\n",
        "# For the next 4 columns, we'll extract our individual annotations.\n",
        "for i, dframe in enumerate(dframes):\n",
        "  annotated_column = dframe[\"label\"].to_numpy()\n",
        "  processframe[f\"{names[i]}_label\"] = pd.Series(annotated_column)\n",
        "\n",
        "\n",
        "# Just to make sure nothing went wrong, let's take a peek at the result\n",
        "print(processframe.head(20))"
      ],
      "metadata": {
        "id": "T-6JRFokTjbV",
        "colab": {
          "base_uri": "https://localhost:8080/"
        },
        "outputId": "47c0d4ad-b91f-4b1d-9566-89f276c07957"
      },
      "execution_count": null,
      "outputs": [
        {
          "output_type": "stream",
          "name": "stdout",
          "text": [
            "             url  john_label  kodai_label  sam_label  tanishk_label\n",
            "0   s10_an_1.wav         0.2          0.2        0.6            0.2\n",
            "1   s10_an_2.wav         0.2          0.2        1.0           -0.2\n",
            "2   s10_an_3.wav         0.6         -0.2        0.6            0.2\n",
            "3   s10_an_4.wav         0.6         -0.2        0.6            0.2\n",
            "4   s10_an_5.wav         0.2         -0.2        0.6           -0.2\n",
            "5   s10_di_1.wav        -0.2         -0.2        0.6           -0.2\n",
            "6   s10_di_2.wav        -0.2         -0.6        0.6           -0.2\n",
            "7   s10_di_3.wav        -0.2         -0.6        0.2           -0.2\n",
            "8   s10_di_4.wav        -0.2         -0.2        0.6           -0.2\n",
            "9   s10_di_5.wav        -0.2         -0.6        0.6           -0.6\n",
            "10  s10_fe_1.wav        -0.2         -1.0        0.6           -0.2\n",
            "11  s10_fe_2.wav        -0.6         -1.0        0.2           -0.2\n",
            "12  s10_fe_3.wav         0.2         -0.2        1.0           -0.2\n",
            "13  s10_fe_4.wav         0.2         -0.2        0.6           -0.2\n",
            "14  s10_fe_5.wav         0.2         -0.2        1.0           -0.2\n",
            "15  s10_ha_1.wav         0.2          0.2        0.2           -0.2\n",
            "16  s10_ha_2.wav         0.2          0.2        0.2           -0.6\n",
            "17  s10_ha_3.wav         0.2          0.6       -0.2            0.2\n",
            "18  s10_ha_4.wav        -0.2          0.2        0.2           -0.2\n",
            "19  s10_ha_5.wav        -0.6          0.2        0.6           -0.6\n"
          ]
        }
      ]
    },
    {
      "cell_type": "code",
      "source": [
        "# We will now take the average and store it in the next column.\n",
        "processframe[\"mean\"] = processframe[processframe.columns[np.r_[1:5]]].mean(axis=1).round(5)\n",
        "processframe[\"median\"] = processframe[processframe.columns[np.r_[1:5]]].median(axis=1).round(5)\n",
        "\n",
        "# for a sanity check, we should manually calculate a few rows to make sure\n",
        "# we're doing what we intend to.\n",
        "print(processframe.head(15))"
      ],
      "metadata": {
        "id": "kDF7j4KYW3wm",
        "colab": {
          "base_uri": "https://localhost:8080/"
        },
        "outputId": "4e17d5fe-10ab-4e5c-e7b6-655526b1e597"
      },
      "execution_count": null,
      "outputs": [
        {
          "output_type": "stream",
          "name": "stdout",
          "text": [
            "             url  john_label  kodai_label  sam_label  tanishk_label  mean  \\\n",
            "0   s10_an_1.wav         0.2          0.2        0.6            0.2   0.3   \n",
            "1   s10_an_2.wav         0.2          0.2        1.0           -0.2   0.3   \n",
            "2   s10_an_3.wav         0.6         -0.2        0.6            0.2   0.3   \n",
            "3   s10_an_4.wav         0.6         -0.2        0.6            0.2   0.3   \n",
            "4   s10_an_5.wav         0.2         -0.2        0.6           -0.2   0.1   \n",
            "5   s10_di_1.wav        -0.2         -0.2        0.6           -0.2  -0.0   \n",
            "6   s10_di_2.wav        -0.2         -0.6        0.6           -0.2  -0.1   \n",
            "7   s10_di_3.wav        -0.2         -0.6        0.2           -0.2  -0.2   \n",
            "8   s10_di_4.wav        -0.2         -0.2        0.6           -0.2  -0.0   \n",
            "9   s10_di_5.wav        -0.2         -0.6        0.6           -0.6  -0.2   \n",
            "10  s10_fe_1.wav        -0.2         -1.0        0.6           -0.2  -0.2   \n",
            "11  s10_fe_2.wav        -0.6         -1.0        0.2           -0.2  -0.4   \n",
            "12  s10_fe_3.wav         0.2         -0.2        1.0           -0.2   0.2   \n",
            "13  s10_fe_4.wav         0.2         -0.2        0.6           -0.2   0.1   \n",
            "14  s10_fe_5.wav         0.2         -0.2        1.0           -0.2   0.2   \n",
            "\n",
            "    median  \n",
            "0      0.2  \n",
            "1      0.2  \n",
            "2      0.4  \n",
            "3      0.4  \n",
            "4      0.0  \n",
            "5     -0.2  \n",
            "6     -0.2  \n",
            "7     -0.2  \n",
            "8     -0.2  \n",
            "9     -0.4  \n",
            "10    -0.2  \n",
            "11    -0.4  \n",
            "12     0.0  \n",
            "13     0.0  \n",
            "14     0.0  \n"
          ]
        }
      ]
    },
    {
      "cell_type": "code",
      "source": [
        "# Finally, let's save the two csv files used for training.\n",
        "meanframe = processframe[processframe.columns[np.r_[0, 5]]]\n",
        "medframe = processframe[processframe.columns[np.r_[0, 6]]]\n",
        "\n",
        "# Finally, make sure this is also correct.\n",
        "print(f\"Using means:\\n{meanframe}\\n\")\n",
        "print(f\"Using medians:\\n{medframe}\\n\")\n",
        "\n",
        "# We will now save the CSV file.\n",
        "meanframe.to_csv(\"annotate_with_means.csv\", index=False, header=False)\n",
        "medframe.to_csv(\"annotate_with_med.csv\", index=False, header=False)"
      ],
      "metadata": {
        "id": "euotEHLMcGlP",
        "colab": {
          "base_uri": "https://localhost:8080/"
        },
        "outputId": "3123ef5b-6490-4fdf-8570-2af9e4bfbca5"
      },
      "execution_count": null,
      "outputs": [
        {
          "output_type": "stream",
          "name": "stdout",
          "text": [
            "Using means:\n",
            "               url  mean\n",
            "0     s10_an_1.wav   0.3\n",
            "1     s10_an_2.wav   0.3\n",
            "2     s10_an_3.wav   0.3\n",
            "3     s10_an_4.wav   0.3\n",
            "4     s10_an_5.wav   0.1\n",
            "...            ...   ...\n",
            "1252   s9_su_1.wav  -0.1\n",
            "1253   s9_su_2.wav  -0.4\n",
            "1254   s9_su_3.wav  -0.3\n",
            "1255   s9_su_4.wav  -0.4\n",
            "1256   s9_su_5.wav  -0.2\n",
            "\n",
            "[1257 rows x 2 columns]\n",
            "\n",
            "Using medians:\n",
            "               url  median\n",
            "0     s10_an_1.wav     0.2\n",
            "1     s10_an_2.wav     0.2\n",
            "2     s10_an_3.wav     0.4\n",
            "3     s10_an_4.wav     0.4\n",
            "4     s10_an_5.wav     0.0\n",
            "...            ...     ...\n",
            "1252   s9_su_1.wav    -0.2\n",
            "1253   s9_su_2.wav    -0.4\n",
            "1254   s9_su_3.wav    -0.4\n",
            "1255   s9_su_4.wav    -0.6\n",
            "1256   s9_su_5.wav    -0.4\n",
            "\n",
            "[1257 rows x 2 columns]\n",
            "\n"
          ]
        }
      ]
    },
    {
      "cell_type": "code",
      "source": [
        "# Now, we want some additional statistics on the process frame\n",
        "# What we are after is, for our individual annotations, how many of us fall\n",
        "# within one standard deviation?\n",
        "\n",
        "# We'll add a standard deviation column \n",
        "processframe[\"std\"] = processframe[processframe.columns[np.r_[1:5]]].std(axis=1, ddof=0)\n",
        "\n",
        "# We are now interested to see how many values fall within one standard deviation\n",
        "annotations = processframe[processframe.columns[np.r_[1:5]]].to_numpy()\n",
        "mean_annotations = processframe[processframe.columns[np.r_[5]]].to_numpy()\n",
        "std_annotations = processframe[processframe.columns[np.r_[7]]].to_numpy()\n",
        "\n",
        "numrows = len(annotations)\n",
        "num_of_annotations_similar = []\n",
        "\n",
        "\n",
        "#print(std_annotations)\n",
        "#print(mean_annotations)\n",
        "#print(processframe[processframe.columns[np.r_[1:5]]].head(30))\n",
        "\n",
        "# We will now see how many samples are similar to the mean\n",
        "for i in range(0, numrows):\n",
        "  a = annotations[i]\n",
        "  m = mean_annotations[i][0]\n",
        "  s = std_annotations[i][0]\n",
        "  c = 0\n",
        "  # check each of our annotations\n",
        "  for aj in a:\n",
        "    #print(f\"Check: {m-s} <= {aj} <= {m+s}? {m-s <= aj <= m+s}, m={m}, s={s}\")\n",
        "    # if our annotations fall within one std\n",
        "    if(m-s <= aj <= m+s):\n",
        "      # increase the count of similar\n",
        "      c += 1\n",
        "  num_of_annotations_similar.append(c)\n",
        "  #print(f\"End of sample {i}\\n\")\n",
        "\n",
        "print(num_of_annotations_similar)\n",
        "avg_agree = np.array(num_of_annotations_similar).mean()\n",
        "print(avg_agree)\n"
      ],
      "metadata": {
        "id": "coBsc7taN8er",
        "colab": {
          "base_uri": "https://localhost:8080/"
        },
        "outputId": "9e6440e5-7e18-43ba-d398-d9fe467175d8"
      },
      "execution_count": null,
      "outputs": [
        {
          "output_type": "stream",
          "name": "stdout",
          "text": [
            "[3, 2, 3, 3, 3, 3, 2, 2, 3, 3, 2, 2, 3, 3, 3, 3, 3, 2, 4, 3, 2, 3, 2, 3, 3, 3, 3, 2, 3, 3, 4, 2, 3, 3, 2, 4, 2, 2, 3, 2, 2, 3, 2, 3, 2, 3, 4, 2, 2, 3, 3, 2, 3, 3, 3, 3, 3, 2, 3, 3, 4, 3, 3, 2, 2, 2, 4, 3, 3, 2, 3, 3, 3, 3, 3, 4, 2, 3, 3, 3, 4, 3, 3, 3, 3, 3, 4, 2, 4, 3, 4, 4, 3, 3, 4, 4, 2, 3, 3, 3, 2, 2, 2, 3, 3, 3, 3, 4, 3, 3, 3, 3, 3, 2, 4, 2, 3, 4, 3, 2, 2, 2, 3, 3, 2, 3, 3, 3, 3, 3, 2, 3, 3, 2, 3, 4, 2, 3, 2, 2, 4, 3, 3, 3, 3, 3, 3, 3, 3, 3, 3, 3, 3, 3, 3, 4, 2, 3, 2, 2, 3, 2, 2, 2, 3, 3, 3, 3, 2, 4, 3, 2, 2, 3, 3, 4, 3, 4, 3, 2, 2, 4, 3, 3, 3, 3, 2, 3, 2, 2, 3, 3, 3, 3, 3, 2, 3, 3, 2, 3, 2, 2, 4, 3, 4, 3, 2, 3, 3, 3, 3, 2, 3, 3, 3, 3, 2, 2, 2, 3, 2, 2, 2, 2, 3, 4, 3, 2, 2, 3, 3, 2, 2, 3, 4, 3, 3, 3, 3, 3, 3, 3, 2, 3, 3, 2, 3, 4, 3, 3, 3, 3, 3, 3, 3, 2, 3, 3, 2, 2, 4, 4, 2, 2, 4, 2, 3, 3, 2, 3, 3, 2, 4, 3, 2, 2, 3, 2, 3, 3, 2, 2, 2, 3, 3, 3, 3, 3, 2, 3, 3, 2, 3, 2, 2, 2, 2, 3, 4, 3, 3, 3, 2, 3, 2, 3, 3, 2, 3, 3, 3, 2, 2, 4, 3, 3, 3, 3, 2, 2, 3, 3, 2, 2, 2, 3, 2, 2, 3, 2, 3, 3, 3, 2, 2, 3, 3, 3, 3, 3, 2, 3, 3, 2, 3, 2, 2, 2, 3, 3, 3, 3, 3, 3, 3, 3, 3, 3, 3, 2, 4, 2, 3, 3, 3, 2, 3, 2, 2, 3, 2, 2, 3, 3, 2, 3, 2, 3, 3, 3, 3, 4, 2, 3, 3, 3, 2, 3, 3, 3, 3, 3, 2, 3, 2, 3, 3, 3, 2, 3, 3, 3, 3, 3, 3, 3, 3, 3, 3, 3, 3, 3, 3, 3, 2, 2, 4, 3, 4, 3, 2, 2, 2, 3, 3, 2, 3, 3, 2, 3, 3, 3, 3, 3, 4, 3, 3, 2, 3, 3, 3, 2, 3, 3, 3, 3, 3, 3, 2, 2, 3, 2, 3, 3, 2, 3, 3, 3, 2, 3, 3, 3, 2, 3, 3, 3, 3, 4, 2, 3, 3, 2, 2, 4, 2, 2, 3, 3, 3, 3, 2, 3, 2, 3, 2, 3, 4, 3, 3, 2, 4, 2, 3, 3, 2, 2, 3, 4, 2, 2, 2, 2, 3, 2, 3, 4, 2, 3, 3, 4, 3, 3, 2, 2, 3, 3, 3, 3, 3, 3, 2, 3, 2, 3, 2, 3, 4, 3, 3, 3, 4, 3, 2, 2, 3, 3, 2, 3, 3, 4, 3, 3, 3, 3, 3, 2, 3, 3, 3, 2, 3, 4, 2, 3, 3, 3, 2, 3, 3, 4, 4, 2, 3, 3, 3, 3, 3, 3, 2, 3, 2, 2, 3, 2, 2, 3, 2, 3, 2, 2, 3, 2, 4, 2, 2, 2, 2, 3, 3, 3, 3, 3, 2, 3, 2, 3, 3, 3, 2, 3, 3, 3, 3, 3, 2, 3, 2, 3, 3, 2, 3, 3, 2, 4, 3, 4, 4, 3, 3, 2, 2, 3, 3, 3, 2, 2, 4, 3, 2, 2, 2, 3, 2, 3, 2, 4, 2, 2, 2, 2, 2, 3, 3, 2, 4, 2, 2, 3, 3, 4, 3, 3, 3, 3, 4, 2, 3, 3, 3, 4, 3, 2, 4, 2, 3, 3, 4, 2, 3, 2, 2, 4, 2, 2, 3, 3, 2, 2, 3, 2, 3, 3, 3, 2, 3, 3, 3, 4, 2, 3, 2, 2, 4, 3, 3, 3, 2, 3, 2, 2, 3, 3, 3, 3, 2, 2, 3, 3, 3, 3, 2, 2, 2, 2, 2, 3, 3, 3, 3, 4, 3, 3, 3, 2, 3, 2, 3, 3, 3, 3, 3, 2, 3, 3, 3, 2, 2, 2, 2, 2, 3, 3, 3, 3, 3, 2, 3, 3, 2, 2, 3, 3, 3, 2, 3, 3, 4, 2, 3, 3, 2, 3, 2, 4, 3, 3, 3, 4, 3, 3, 3, 3, 2, 2, 3, 3, 4, 3, 3, 3, 3, 2, 2, 2, 2, 2, 2, 3, 3, 2, 2, 3, 3, 3, 2, 4, 3, 3, 3, 3, 3, 3, 2, 3, 3, 2, 2, 2, 4, 3, 3, 2, 2, 3, 3, 2, 4, 2, 3, 3, 3, 2, 3, 3, 4, 3, 3, 3, 2, 2, 2, 3, 4, 2, 3, 3, 3, 3, 3, 4, 3, 2, 4, 2, 3, 4, 2, 3, 2, 3, 2, 3, 2, 3, 2, 4, 3, 3, 2, 2, 3, 3, 3, 2, 3, 3, 4, 3, 3, 3, 2, 2, 3, 2, 3, 3, 3, 3, 2, 3, 3, 3, 4, 2, 3, 2, 2, 3, 2, 2, 3, 3, 2, 3, 3, 2, 2, 1, 3, 2, 3, 3, 3, 3, 3, 3, 3, 2, 2, 3, 2, 2, 3, 3, 4, 3, 3, 4, 3, 3, 3, 4, 3, 3, 2, 3, 4, 4, 3, 4, 3, 3, 3, 3, 2, 3, 2, 3, 3, 3, 3, 2, 3, 4, 2, 4, 3, 4, 2, 2, 3, 3, 3, 2, 2, 2, 2, 3, 3, 3, 4, 2, 2, 3, 2, 3, 4, 2, 2, 3, 4, 3, 3, 4, 3, 4, 3, 3, 2, 3, 3, 3, 2, 3, 3, 3, 2, 2, 2, 3, 3, 2, 2, 3, 3, 3, 2, 3, 3, 3, 3, 2, 3, 2, 3, 3, 3, 3, 3, 2, 3, 3, 3, 3, 4, 3, 3, 2, 2, 2, 3, 2, 2, 2, 3, 2, 3, 2, 3, 2, 3, 3, 3, 3, 2, 4, 4, 4, 3, 3, 4, 2, 3, 3, 3, 2, 3, 3, 2, 3, 3, 4, 2, 3, 2, 3, 3, 2, 3, 2, 3, 4, 3, 2, 2, 2, 3, 3, 3, 3, 4, 3, 3, 2, 2, 2, 2, 3, 4, 3, 3, 3, 2, 3, 2, 3, 3, 2, 2, 2, 2, 3, 2, 3, 3, 3, 3, 2, 3, 2, 3, 2, 3, 3, 3, 3, 4, 4, 2, 3, 4, 2, 3, 2, 2, 3, 2, 3, 2, 2, 2, 3, 3, 2, 3, 4, 3, 3, 3, 2, 3, 3, 3, 3, 3, 3, 3, 2, 2, 2, 4, 3, 3, 3, 2, 2, 3, 3, 3, 2, 3, 3, 3, 4, 3, 4, 2, 3, 3, 3, 3, 3, 2, 2, 3, 2, 3, 3, 3, 2, 3, 2, 2, 3, 2, 3, 3, 4, 2, 2, 4, 3, 2, 3, 3, 3, 3, 3, 2, 2, 3, 2, 3, 3, 3, 2, 3, 2, 3, 3, 3, 4, 2, 3, 3, 3, 4, 3, 2, 3, 3, 3, 3, 3, 4, 2, 4, 3, 2, 3, 3, 2, 2, 4, 2, 2, 2, 3, 3, 2, 3, 3, 2, 3, 2, 3, 3, 3, 3, 3, 3, 2, 3, 3, 3, 3, 3, 4, 2, 3, 4, 3, 3, 2, 3, 3, 3]\n",
            "2.769291964996022\n"
          ]
        }
      ]
    },
    {
      "cell_type": "code",
      "source": [
        "# How many of each count exists? Let's find out by plotting...\n",
        "histogramframe = pd.DataFrame(num_of_annotations_similar)\n",
        "histogramframe = histogramframe.rename(columns={0:\"Number of annotators within one STD of mean\"})\n",
        "histo = histogramframe.hist()\n"
      ],
      "metadata": {
        "id": "7Z8PRYLndWUk",
        "colab": {
          "base_uri": "https://localhost:8080/",
          "height": 281
        },
        "outputId": "af702678-fd77-44d5-e631-43baf323bc60"
      },
      "execution_count": null,
      "outputs": [
        {
          "output_type": "display_data",
          "data": {
            "text/plain": [
              "<Figure size 432x288 with 1 Axes>"
            ],
            "image/png": "[encoded data removed]"
          },
          "metadata": {
            "needs_background": "light"
          }
        }
      ]
    },
    {
      "cell_type": "code",
      "source": [
        ""
      ],
      "metadata": {
        "id": "FeW9eTbGZheB"
      },
      "execution_count": null,
      "outputs": []
    }
  ]
}