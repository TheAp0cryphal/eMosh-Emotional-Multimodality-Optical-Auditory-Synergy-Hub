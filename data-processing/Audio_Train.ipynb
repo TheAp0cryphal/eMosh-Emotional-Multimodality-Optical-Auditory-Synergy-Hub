{
  "cells": [
    {
      "cell_type": "markdown",
      "metadata": {
        "id": "WiusdhAXH32R"
      },
      "source": [
        "**Setup and Training:**\n",
        "\n",
        "This notebook will prepare and train a machine learning model (will use SVM and random forests) to predict the arousal of sound sample. We will be making use of the pyAudioAnalysis library.\n",
        "\n",
        "We will be making the assumption of working out of the ./content folder.\n",
        "\n"
      ]
    },
    {
      "cell_type": "code",
      "execution_count": null,
      "metadata": {
        "colab": {
          "base_uri": "https://localhost:8080/"
        },
        "id": "hlQd13ReIAtC",
        "outputId": "114982f7-330a-45b8-94cd-02e1416a600b"
      },
      "outputs": [
        {
          "output_type": "stream",
          "name": "stdout",
          "text": [
            "Collecting pyAudioAnalysis\n",
            "  Downloading pyAudioAnalysis-0.3.14.tar.gz (41.3 MB)\n",
            "\u001b[K     |████████████████████████████████| 41.3 MB 2.0 MB/s \n",
            "\u001b[?25hBuilding wheels for collected packages: pyAudioAnalysis\n",
            "  Building wheel for pyAudioAnalysis (setup.py) ... \u001b[?25l\u001b[?25hdone\n",
            "  Created wheel for pyAudioAnalysis: filename=pyAudioAnalysis-0.3.14-py3-none-any.whl size=41264389 sha256=b8ac1dfd7aa89fd5515039932f8a7056d8da6cad5c741e1903b9652052c2cf89\n",
            "  Stored in directory: /root/.cache/pip/wheels/85/b4/52/c6a5bdc8517a9bc4cc95aca9839f118d25139aee7881a8d210\n",
            "Successfully built pyAudioAnalysis\n",
            "Installing collected packages: pyAudioAnalysis\n",
            "Successfully installed pyAudioAnalysis-0.3.14\n",
            "Collecting eyed3\n",
            "  Downloading eyeD3-0.9.6-py3-none-any.whl (245 kB)\n",
            "\u001b[K     |████████████████████████████████| 245 kB 5.2 MB/s \n",
            "\u001b[?25hCollecting filetype<2.0.0,>=1.0.7\n",
            "  Downloading filetype-1.0.10-py2.py3-none-any.whl (16 kB)\n",
            "Collecting deprecation<3.0.0,>=2.1.0\n",
            "  Downloading deprecation-2.1.0-py2.py3-none-any.whl (11 kB)\n",
            "Collecting coverage[toml]<6.0.0,>=5.3.1\n",
            "  Downloading coverage-5.5-cp37-cp37m-manylinux2010_x86_64.whl (242 kB)\n",
            "\u001b[K     |████████████████████████████████| 242 kB 50.6 MB/s \n",
            "\u001b[?25hCollecting toml\n",
            "  Downloading toml-0.10.2-py2.py3-none-any.whl (16 kB)\n",
            "Requirement already satisfied: packaging in /usr/local/lib/python3.7/dist-packages (from deprecation<3.0.0,>=2.1.0->eyed3) (21.3)\n",
            "Requirement already satisfied: pyparsing!=3.0.5,>=2.0.2 in /usr/local/lib/python3.7/dist-packages (from packaging->deprecation<3.0.0,>=2.1.0->eyed3) (3.0.8)\n",
            "Installing collected packages: toml, coverage, filetype, deprecation, eyed3\n",
            "  Attempting uninstall: coverage\n",
            "    Found existing installation: coverage 3.7.1\n",
            "    Uninstalling coverage-3.7.1:\n",
            "      Successfully uninstalled coverage-3.7.1\n",
            "\u001b[31mERROR: pip's dependency resolver does not currently take into account all the packages that are installed. This behaviour is the source of the following dependency conflicts.\n",
            "datascience 0.10.6 requires coverage==3.7.1, but you have coverage 5.5 which is incompatible.\n",
            "datascience 0.10.6 requires folium==0.2.1, but you have folium 0.8.3 which is incompatible.\n",
            "coveralls 0.5 requires coverage<3.999,>=3.6, but you have coverage 5.5 which is incompatible.\u001b[0m\n",
            "Successfully installed coverage-5.5 deprecation-2.1.0 eyed3-0.9.6 filetype-1.0.10 toml-0.10.2\n",
            "Collecting pydub\n",
            "  Downloading pydub-0.25.1-py2.py3-none-any.whl (32 kB)\n",
            "Installing collected packages: pydub\n",
            "Successfully installed pydub-0.25.1\n",
            "eyed3                         0.9.6\n",
            "pyAudioAnalysis               0.3.14\n",
            "pydub                         0.25.1\n",
            "/content\n",
            "drive  sample_data\n"
          ]
        }
      ],
      "source": [
        "# First, install all of the dependencies\n",
        "!pip install pyAudioAnalysis\n",
        "!pip install eyed3\n",
        "!pip install pydub\n",
        "!pip list | grep -E \"pyAudio|eyed3|pydub\"\n",
        "!pwd\n",
        "!ls"
      ]
    },
    {
      "cell_type": "code",
      "execution_count": null,
      "metadata": {
        "id": "M0ro-kOwKG7l"
      },
      "outputs": [],
      "source": [
        "import os\n",
        "\n",
        "# First, we need to process the data. We will need to convert videos to audio.\n",
        "# We will assume a filetree structure as follows:\n",
        "# - ./content\n",
        "# - - - requirements.txt\n",
        "# - - - sample_data\n",
        "# - - - audiodata\n",
        "# - - - - - arousal.csv\n",
        "# - - - - - audio.wav\n",
        "# - - - models\n",
        "# - - - - - audio_predict_model\n",
        "\n",
        "!mkdir -p audiodata\n",
        "!mkdir -p models\n",
        "!pwd\n",
        "!ls\n"
      ]
    },
    {
      "cell_type": "code",
      "execution_count": null,
      "metadata": {
        "id": "o-2b383xMCHm"
      },
      "outputs": [],
      "source": [
        "# First, we want to grab all of the video files from enterfaceinto preprocess and convert it.\n",
        "# Note, if we are loading the data from the zip, SKIP THIS CELL and run the next\n",
        "# Note that the variable 'database' is where the enterface database is located\n",
        "# and we assume it is inside a google drive.\n",
        "def get_from_enterface(emos):\n",
        "    database = \"/content/drive/MyDrive/CMPT419/'enterface database'\"\n",
        "    stream = os.popen(f\"ls {database}\")\n",
        "    # retrieve the subjects filetree structure as a string, and place the name of each folder into a list\n",
        "    folders = stream.read().split(\"\\n\")[0:-1]\n",
        "\n",
        "    # loop through each subject_n folder and grab the anger folder\n",
        "    for i, folder in enumerate(folders):\n",
        "        # loop through emotions [\"anger\", \"sadness\", ...]\n",
        "        for emo in emos:\n",
        "            # get the path of the emotion, and get the sentence folder directory e.g., anger/'sentence 1'\n",
        "            path = f\"{database}/'{folder}'/{emo}\"\n",
        "            stream = os.popen(f\"ls {path}\")\n",
        "            sentence_folders = stream.read().split(\"\\n\")[0:-1]\n",
        "            # loop through folders sentence 1, 2, 3, ...\n",
        "            sentence_cap = len(sentence_folders)\n",
        "            for j in range(0, sentence_cap):\n",
        "                # copy the .avi files into the dump folder\n",
        "                vid_path = f\"{path}/'{sentence_folders[j]}'\"\n",
        "                os.system(f\"find {vid_path} \\*.avi -exec cp {{}} ./ \\;\")\n",
        "\n",
        "emotions = [\"anger\", \"disgust\", \"fear\", \"happiness\", \"sadness\", \"surprise\"]\n",
        "get_from_enterface(emotions)\n",
        "\n",
        "print(f\"Done.\")\n"
      ]
    },
    {
      "cell_type": "code",
      "execution_count": null,
      "metadata": {
        "id": "FaGy959dYXDe"
      },
      "outputs": [],
      "source": [
        "# if we have previously saved the data, then we should unzip it.\n",
        "# place a COPY of the audiowav.zip into the audiodata folder\n",
        "# if running this cell, skip to the cell where we import pandas.\n",
        "!cp \"/content/drive/MyDrive/CMPT419/audiowav.zip\" \"./audiodata/\"\n",
        "!unzip -q \"/content/audiodata/audiowav.zip\"\n",
        "!rm \"/content/audiodata/audiowav.zip\"\n",
        "!mv  \"./eNTERFACE05_audio\"/* \"./audiodata/\"\n",
        "!rm -r ./eNTERFACE05_audio\n",
        "!pwd\n",
        "!ls"
      ]
    },
    {
      "cell_type": "code",
      "execution_count": null,
      "metadata": {
        "id": "te3AWT_ROf0v"
      },
      "outputs": [],
      "source": [
        "# If we're processing the raw data, then we need to convert the video into wav\n",
        "# remove the extraneous thumbs.db file\n",
        "!rm -f Thumbs.db\n",
        "\n",
        "# using ffmpeg, convert the video.avi into audio.wav files\n",
        "!for i in *.avi; do ffmpeg -loglevel panic -i \"$i\" -vn -acodec copy \"${i%.*}.wav\"; mv \"${i%.*}.wav\" \"./audiodata/${i%.*}.wav\"; rm \"${i%.*}.avi\"; done\n",
        "\n",
        "# check the directory now\n",
        "!pwd\n",
        "!ls"
      ]
    },
    {
      "cell_type": "code",
      "execution_count": null,
      "metadata": {
        "id": "mD2ywYUkVZjc"
      },
      "outputs": [],
      "source": [
        "# We may want to save the audio.wav files so we won't have to spend so much time processing it next.\n",
        "!zip -r -q audiowav.zip audiodata\n",
        "!pwd\n",
        "!ls"
      ]
    },
    {
      "cell_type": "code",
      "execution_count": null,
      "metadata": {
        "id": "XG913lqwY4kq"
      },
      "outputs": [],
      "source": [
        "# If we are using manual annotation, skip this cell and run the import for pyAudioAnalysis import\n",
        "# This line basically generates an empty csv file which can be used to store\n",
        "# annotated values. \n",
        "\n",
        "# Now, we need a csv file with annotations for each audio.wav file. Let's make one.\n",
        "import pandas as pd\n",
        "import numpy as np\n",
        "\n",
        "FILENAME = \"arousal\"\n",
        "\n",
        "def generate_csv_annotation(FILENAME):\n",
        "  folder = f\"./audiodata\"\n",
        "  stream = os.popen(f\"ls {folder}\")\n",
        "  cols = np.array(stream.read().split('\\n')[0:-1])\n",
        "  dframe = pd.DataFrame(cols)\n",
        "  dframe.to_csv(f\"{folder}/{FILENAME}\", header=False, index=False)\n",
        "\n",
        "generate_csv_annotation(FILENAME)\n",
        "print(f\"Done. Check {FILENAME}. Note - this is EMPTY and needs annotation!\")\n",
        "  "
      ]
    },
    {
      "cell_type": "code",
      "execution_count": null,
      "metadata": {
        "id": "ribCVh47e-Pi"
      },
      "outputs": [],
      "source": [
        "# Before running this section, please make sure ANNOTATED_FILE.csv is inside the audiodata folder!\n",
        "# We will now start training the model.\n",
        "\n",
        "from pyAudioAnalysis import audioTrainTest as ATT\n",
        "\n",
        "# Parameters can be found in https://github.com/tyiannak/pyAudioAnalysis/blob/master/pyAudioAnalysis/audioTrainTest.py L. 368.\n",
        "wavfilesdir = \"./audiodata/\"\n",
        "p_mid_window = 1\n",
        "p_mid_step = 1\n",
        "p_short_window = ATT.shortTermWindow\n",
        "p_short_step = ATT.shortTermStep\n",
        "p_model_type = \"svm\"\n",
        "p_model_name = \"AudioPredictModelSVM\"\n",
        "\n",
        "# this function does not return anything, instead, it saves the model after training it.\n",
        "print(f\"Training the model. This may take a while.\\n\")\n",
        "ATT.feature_extraction_train_regression(wavfilesdir, p_mid_window, p_mid_step, p_short_window, \n",
        "                                        p_short_step, p_model_type, p_model_name)\n",
        "\n",
        "# NOTE: The docs mention (a) the WAV filenames - without extension, but this appears to be FALSE\n",
        "# In the screenshot directly beneath, the .wav extension was included. IN ADDITION,\n",
        "# the script failed when it the .wav extension was NOT INCLUDED in the csv!\n",
        "\n",
        "print(f\"Done training models.\")\n",
        "\n",
        "# move the model to the models folder\n",
        "!mv AudioPredictModel_annotate_with_means ./models\n",
        "!mv AudioPredictModel_annote_with_meansMEANS ./models\n",
        "!mv AudioPredictModel_annotate_with_med ./models\n",
        "!mv AudioPredictModel_annote_with_medMEANS ./models\n",
        "\n",
        "print(\"Finished moving objects into folder.\")"
      ]
    },
    {
      "cell_type": "code",
      "execution_count": null,
      "metadata": {
        "id": "KxVf4-S7nm5f"
      },
      "outputs": [],
      "source": [
        "# if desired, zip up the models\n",
        "!zip -r -q audiomodels.zip models\n",
        "!pwd\n",
        "!ls"
      ]
    },
    {
      "cell_type": "markdown",
      "metadata": {
        "id": "xbGNmCdauXt5"
      },
      "source": [
        "# Testing and Validation\n",
        "\n",
        "This section is for testing our model. Since each model takes about ~5-6 hour to train, doing a 5-fold cross-validation will be too time-costly. Therefore, what we will do is an 80-20 random split as a compromise.\n",
        "\n",
        "The infrastructure is set up to train regression of all audio files inside a folder, along with a csv file which provides the ground truths. Two things must happen:\n",
        "\n",
        "First, we must read in a list of all the audio files in the target directory, and randomly select 20% of it, and move it to a different folder.\n",
        "\n",
        "We must then generate a new dataframe after removing those 20% of rows, and save that csv.\n",
        "\n",
        "Training will then be done on the 80% of the remaining data. After the model is done, we will test the 20% test data."
      ]
    },
    {
      "cell_type": "code",
      "execution_count": null,
      "metadata": {
        "id": "Ap3RB2pYvT1c",
        "colab": {
          "base_uri": "https://localhost:8080/"
        },
        "outputId": "c34b7f26-bf66-46ac-e811-b811ee97e7f0"
      },
      "outputs": [
        {
          "output_type": "stream",
          "name": "stdout",
          "text": [
            "/content\n",
            "audiodata  drive  models  sample_data  testaudiodata\n"
          ]
        }
      ],
      "source": [
        "# Set up the main folder for the audio data if it is not already.\n",
        "!mkdir -p audiodata\n",
        "!mkdir -p testaudiodata\n",
        "!mkdir -p models\n",
        "!pwd\n",
        "!ls"
      ]
    },
    {
      "cell_type": "code",
      "source": [
        "# create a folder to store the csv files for comparing results\n",
        "!mkdir /content/testgroundtruth/"
      ],
      "metadata": {
        "id": "8yoYHXqhqmPE"
      },
      "execution_count": null,
      "outputs": []
    },
    {
      "cell_type": "code",
      "execution_count": null,
      "metadata": {
        "id": "ZaZ59KKSB7dw",
        "colab": {
          "base_uri": "https://localhost:8080/"
        },
        "outputId": "9d772c89-7cb2-4fc4-98d4-0e20137a54e6"
      },
      "outputs": [
        {
          "output_type": "stream",
          "name": "stdout",
          "text": [
            "/content\n",
            "audiodata  drive  models  sample_data  testaudiodata  testgroundtruth\n"
          ]
        }
      ],
      "source": [
        "# If not done already, please upload the ground truth csv into the audiodata\n",
        "# folder. We will grab the audio into the audiodata folder\n",
        "# (if we haven't done this already) \n",
        "!cp \"/content/drive/MyDrive/CMPT419/audiowav.zip\" \"./audiodata/\"\n",
        "!unzip -q \"/content/audiodata/audiowav.zip\"\n",
        "!rm \"/content/audiodata/audiowav.zip\"\n",
        "!mv  \"./eNTERFACE05_audio\"/* \"./audiodata/\"\n",
        "!rm -r ./eNTERFACE05_audio\n",
        "!pwd\n",
        "!ls\n"
      ]
    },
    {
      "cell_type": "code",
      "execution_count": null,
      "metadata": {
        "id": "z1FTtZyTFYBj",
        "colab": {
          "base_uri": "https://localhost:8080/"
        },
        "outputId": "73f9c926-c1e8-492a-890e-3ca4906c2408"
      },
      "outputs": [
        {
          "output_type": "stream",
          "name": "stdout",
          "text": [
            "The following data will be used to train:\n",
            "                 0    1\n",
            "0     s10_an_1.wav  0.3\n",
            "1     s10_an_2.wav  0.3\n",
            "2     s10_an_3.wav  0.3\n",
            "3     s10_an_4.wav  0.3\n",
            "4     s10_an_5.wav  0.1\n",
            "...            ...  ...\n",
            "1250   s9_sa_4.wav -1.0\n",
            "1253   s9_su_2.wav -0.4\n",
            "1254   s9_su_3.wav -0.3\n",
            "1255   s9_su_4.wav -0.4\n",
            "1256   s9_su_5.wav -0.2\n",
            "\n",
            "[1006 rows x 2 columns]\n",
            "The following data will be used to test:\n",
            "                 0    1\n",
            "709   s32_sa_3.wav -0.5\n",
            "134   s15_fe_5.wav -0.2\n",
            "1065  s43_ha_4.wav -0.4\n",
            "368   s22_di_4.wav -0.6\n",
            "837   s37_an_1.wav -0.1\n",
            "...            ...  ...\n",
            "728   s33_fe_2.wav -0.4\n",
            "937    s3_fe_1.wav  0.2\n",
            "1132   s4_su_1.wav  0.1\n",
            "629   s30_an_3.wav -0.4\n",
            "512   s27_di_1.wav -0.5\n",
            "\n",
            "[251 rows x 2 columns]\n",
            "We will be moving the files\n",
            "['s32_sa_3.wav', 's15_fe_5.wav', 's43_ha_4.wav', 's22_di_4.wav', 's37_an_1.wav', 's37_su_2.wav', 's23_su_4.wav', 's43_di_3.wav', 's34_su_2.wav', 's27_fe_5.wav', 's14_an_3.wav', 's35_sa_5.wav', 's17_an_1.wav', 's42_su_4.wav', 's24_di_3.wav', 's5_su_5.wav', 's17_di_1.wav', 's21_di_4.wav', 's41_sa_3.wav', 's18_ha_2.wav', 's9_su_1.wav', 's28_di_4.wav', 's15_sa_2.wav', 's23_sa_1.wav', 's19_di_1.wav', 's33_fe_1.wav', 's16_fe_4.wav', 's23_sa_5.wav', 's42_di_2.wav', 's35_fe_4.wav', 's23_an_2.wav', 's39_fe_5.wav', 's2_di_2.wav', 's32_fe_4.wav', 's26_fe_5.wav', 's41_fe_1.wav', 's33_di_3.wav', 's30_an_1.wav', 's14_di_4.wav', 's9_an_5.wav', 's19_ha_5.wav', 's44_an_4.wav', 's13_an_3.wav', 's13_su_4.wav', 's13_an_2.wav', 's19_di_5.wav', 's44_di_2.wav', 's7_sa_3.wav', 's25_fe_1.wav', 's24_su_4.wav', 's36_su_3.wav', 's9_sa_5.wav', 's37_su_3.wav', 's5_an_5.wav', 's34_di_1.wav', 's41_fe_3.wav', 's28_fe_4.wav', 's20_sa_1.wav', 's10_di_4.wav', 's15_di_4.wav', 's40_di_3.wav', 's18_di_2.wav', 's9_ha_1.wav', 's5_an_4.wav', 's18_ha_4.wav', 's12_di_4.wav', 's38_fe_1.wav', 's12_su_2.wav', 's29_ha_5.wav', 's14_fe_5.wav', 's25_ha_1.wav', 's43_su_2.wav', 's8_di_2.wav', 's20_fe_2.wav', 's37_fe_2.wav', 's22_ha_2.wav', 's41_di_4.wav', 's33_ha_4.wav', 's4_sa_5.wav', 's40_ha_5.wav', 's23_an_5.wav', 's31_sa_2.wav', 's25_su_1.wav', 's16_an_5.wav', 's20_di_3.wav', 's15_sa_3.wav', 's31_an_1.wav', 's25_di_2.wav', 's30_fe_4.wav', 's17_di_3.wav', 's43_ha_3.wav', 's41_an_5.wav', 's16_di_4.wav', 's8_ha_2.wav', 's12_an_4.wav', 's30_an_4.wav', 's22_ha_4.wav', 's2_sa_3.wav', 's40_fe_5.wav', 's26_an_3.wav', 's27_ha_2.wav', 's21_ha_5.wav', 's44_an_3.wav', 's22_fe_1.wav', 's13_ha_3.wav', 's30_su_2.wav', 's4_di_3.wav', 's38_sa_2.wav', 's17_su_5.wav', 's39_sa_5.wav', 's18_sa_1.wav', 's28_fe_1.wav', 's5_ha_4.wav', 's14_di_2.wav', 's22_an_4.wav', 's24_su_3.wav', 's23_su_3.wav', 's35_fe_3.wav', 's20_ha_3.wav', 's36_di_4.wav', 's14_di_3.wav', 's28_ha_5.wav', 's22_di_3.wav', 's36_sa_1.wav', 's16_sa_3.wav', 's7_an_5.wav', 's29_di_2.wav', 's30_di_3.wav', 's31_su_1.wav', 's40_ha_4.wav', 's44_ha_1.wav', 's18_di_3.wav', 's37_sa_2.wav', 's8_di_1.wav', 's39_sa_3.wav', 's44_an_1.wav', 's10_sa_5.wav', 's26_ha_4.wav', 's21_di_2.wav', 's1_ha_2.wav', 's26_di_3.wav', 's14_an_5.wav', 's36_sa_3.wav', 's2_fe_5.wav', 's35_an_5.wav', 's35_sa_2.wav', 's22_an_2.wav', 's28_ha_2.wav', 's4_ha_1.wav', 's21_su_4.wav', 's36_di_5.wav', 's10_sa_3.wav', 's39_fe_2.wav', 's34_an_2.wav', 's1_fe_1.wav', 's31_di_3.wav', 's10_ha_4.wav', 's37_ha_2.wav', 's20_an_3.wav', 's7_ha_3.wav', 's4_fe_1.wav', 's1_sa_1.wav', 's29_ha_2.wav', 's32_an_5.wav', 's16_fe_2.wav', 's32_sa_2.wav', 's42_ha_3.wav', 's30_di_4.wav', 's30_di_1.wav', 's3_su_3.wav', 's42_an_2.wav', 's25_di_5.wav', 's43_an_5.wav', 's30_an_2.wav', 's43_sa_3.wav', 's29_sa_3.wav', 's24_an_1.wav', 's7_di_5.wav', 's29_ha_3.wav', 's31_ha_1.wav', 's4_su_2.wav', 's39_ha_3.wav', 's40_di_5.wav', 's23_fe_4.wav', 's22_an_3.wav', 's9_an_3.wav', 's3_sa_2.wav', 's9_ha_5.wav', 's28_su_1.wav', 's7_sa_2.wav', 's41_sa_1.wav', 's5_sa_4.wav', 's17_fe_4.wav', 's25_di_3.wav', 's38_su_5.wav', 's21_an_2.wav', 's2_su_3.wav', 's25_sa_4.wav', 's34_ha_3.wav', 's2_sa_4.wav', 's8_an_4.wav', 's40_su_3.wav', 's2_fe_4.wav', 's33_su_3.wav', 's28_sa_3.wav', 's34_sa_5.wav', 's19_di_4.wav', 's16_di_1.wav', 's3_su_4.wav', 's20_di_5.wav', 's30_su_1.wav', 's26_fe_2.wav', 's18_sa_2.wav', 's13_ha_1.wav', 's25_fe_3.wav', 's17_su_2.wav', 's19_an_3.wav', 's2_ha_4.wav', 's4_fe_4.wav', 's44_su_3.wav', 's30_sa_5.wav', 's15_su_5.wav', 's24_fe_3.wav', 's2_ha_2.wav', 's40_fe_4.wav', 's43_di_1.wav', 's22_su_2.wav', 's15_di_3.wav', 's12_an_2.wav', 's20_di_2.wav', 's23_di_5.wav', 's12_su_1.wav', 's26_fe_3.wav', 's9_fe_5.wav', 's16_ha_1.wav', 's40_an_2.wav', 's22_fe_3.wav', 's12_su_3.wav', 's13_ha_4.wav', 's34_fe_1.wav', 's16_fe_1.wav', 's4_su_4.wav', 's24_sa_1.wav', 's14_sa_3.wav', 's30_ha_4.wav', 's1_su_3.wav', 's33_fe_2.wav', 's3_fe_1.wav', 's4_su_1.wav', 's30_an_3.wav', 's27_di_1.wav']\n"
          ]
        },
        {
          "output_type": "execute_result",
          "data": {
            "text/plain": [
              "0"
            ]
          },
          "metadata": {},
          "execution_count": 4
        }
      ],
      "source": [
        "# import pandas if not already\n",
        "import pandas as pd\n",
        "import os\n",
        "import shutil\n",
        "\n",
        "# THIS SECTION WILL FAIL IF THE CSV FILES FOR GROUND TRUTH IS NOT UPLOADED\n",
        "# TO THE audiodata FOLDER\n",
        "\n",
        "# we will assume that the mean_csv and med_csv is sorted so that the rows are\n",
        "# isomorphic. therefore, operations on one will be reflected on the other.\n",
        "# This will depend on the csv annotation processing script.\n",
        "\n",
        "csv_mean_path = \"/content/audiodata/annotate_with_means.csv\"\n",
        "csv_med_path = \"/content/audiodata/annotate_with_med.csv\"\n",
        "csv_mean_file = pd.read_csv(csv_mean_path, header=None)\n",
        "csv_med_file = pd.read_csv(csv_med_path, header=None)\n",
        "\n",
        "# grab the 20% (returned as row index) of data for testing\n",
        "train_test_df = csv_mean_file.copy(deep=True)\n",
        "test_set = train_test_df.sample(frac=0.2).index\n",
        "\n",
        "# set up the test set\n",
        "mean_test = csv_mean_file.iloc[test_set]\n",
        "med_test = csv_med_file.iloc[test_set]\n",
        "\n",
        "# remove the test set from the train set\n",
        "mean_train = csv_mean_file.drop(test_set)\n",
        "med_train = csv_med_file.drop(test_set)\n",
        "\n",
        "# save this new csv file used for training 80% of the data\n",
        "mean_train.to_csv(\"/content/audiodata/annotate_with_means80.csv\", header=False, index=False)\n",
        "med_train.to_csv(\"/content/audiodata/annotate_with_med80.csv\", header=False, index=False)\n",
        "\n",
        "mean_test.to_csv(\"/content/testaudiodata/annotate_with_means20.csv\", header=False, index=False)\n",
        "med_test.to_csv(\"/content/testaudiodata/annotate_with_med20.csv\", header=False, index=False)\n",
        "\n",
        "# print out what the dataframes will look like\n",
        "print(f\"The following data will be used to train:\")\n",
        "print(mean_train)\n",
        "print(f\"The following data will be used to test:\")\n",
        "print(mean_test)\n",
        "\n",
        "# now we have to move the physical audio files to the other audio folder\n",
        "files_to_move = mean_test[mean_test.columns[0]].tolist()\n",
        "print(f\"We will be moving the files\\n{files_to_move}\")\n",
        "\n",
        "base_path = \"/content/audiodata/\"\n",
        "destination = \"/content/testaudiodata/\"\n",
        "for file_to_move in files_to_move:\n",
        "  subject = base_path+file_to_move\n",
        "  os.system(f\"mv {subject} {destination}\")\n",
        "\n",
        "# remove the full csv files so the model doesn't actually train this\n",
        "os.system(f\"rm {base_path}/annotate_with_means.csv\")\n",
        "os.system(f\"rm {base_path}/annotate_with_med.csv\")"
      ]
    },
    {
      "cell_type": "code",
      "source": [
        "# There are times when we want to move the audio based on existing trained file.\n",
        "# If we already have things set up from before, run this cell instead of the one above\n",
        "# Change the name of the csv file for different models. (User-defined)\n",
        "import pandas as pd\n",
        "import os\n",
        "\n",
        "split_file20_path = \"/content/testgroundtruth/annotate_with_means20.csv\"\n",
        "split_file20 = pd.read_csv(split_file20_path, header=None)\n",
        "data_path = \"/content/audiodata/\"\n",
        "test_path = \"/content/testaudiodata/\"\n",
        "audiofile_names = split_file20[0].tolist()\n",
        "\n",
        "for audiofile_name in audiofile_names:\n",
        "  os.system(f\"mv {data_path}{audiofile_name} {test_path}{audiofile_name}\")\n",
        "\n",
        "print(f\"Done.\")"
      ],
      "metadata": {
        "id": "UBjgCLMMlpPb",
        "colab": {
          "base_uri": "https://localhost:8080/"
        },
        "outputId": "77e2d0ea-52c3-4e90-b820-fb7b5aa58c9a"
      },
      "execution_count": null,
      "outputs": [
        {
          "output_type": "stream",
          "name": "stdout",
          "text": [
            "Done.\n"
          ]
        }
      ]
    },
    {
      "cell_type": "code",
      "execution_count": null,
      "metadata": {
        "id": "7V-guEKjHMCH"
      },
      "outputs": [],
      "source": [
        "# finally, train the model...\n",
        "\n",
        "from pyAudioAnalysis import audioTrainTest as ATT\n",
        "\n",
        "# Parameters can be found in https://github.com/tyiannak/pyAudioAnalysis/blob/master/pyAudioAnalysis/audioTrainTest.py L. 368.\n",
        "wavfilesdir = \"/content/audiodata/\"\n",
        "p_mid_window = 1\n",
        "p_mid_step = 1\n",
        "p_short_window = ATT.shortTermWindow\n",
        "p_short_step = ATT.shortTermStep\n",
        "p_model_type = \"randomforest\"\n",
        "p_model_name = \"AudioPredictModel80\"\n",
        "\n",
        "# this function does not return anything, instead, it saves the model after training it.\n",
        "print(f\"Training the model. This may take a while.\\n\")\n",
        "ATT.feature_extraction_train_regression(wavfilesdir, p_mid_window, p_mid_step, p_short_window, \n",
        "                                        p_short_step, p_model_type, p_model_name)"
      ]
    },
    {
      "cell_type": "code",
      "source": [
        "# move the csv files\n",
        "!mv /content/testaudiodata/*.csv /content/testgroundtruth/ "
      ],
      "metadata": {
        "id": "UaAHlwZkp4G8"
      },
      "execution_count": null,
      "outputs": []
    },
    {
      "cell_type": "code",
      "execution_count": null,
      "metadata": {
        "id": "GZjeqzTAdEAq"
      },
      "outputs": [],
      "source": [
        "# move model to the models folder, and the alternate folder.\n",
        "!mv ./AudioPredictModel80_annotate_with_means80 /content/models\n",
        "!mv ./AudioPredictModel80_annotate_with_means80MEANS /content/models\n",
        "!mv ./AudioPredictModel80_annotate_with_med80 /content/testgroundtruth\n",
        "!mv ./AudioPredictModel80_annotate_with_med80MEANS /content/testgroundtruth"
      ]
    },
    {
      "cell_type": "code",
      "source": [
        "# Here, some utility statistical tests are provided.\n",
        "import numpy as np\n",
        "\n",
        "def calc_RMSE(predicted, actual):\n",
        "  actual = np.array(actual)\n",
        "  predicted = np.array(predicted)\n",
        "  count = len(predicted) # same as len(actual)\n",
        "\n",
        "  SSE = np.sum((actual-results)**2)\n",
        "  RMSE = np.sqrt(SSE/count)\n",
        "\n",
        "  return RMSE"
      ],
      "metadata": {
        "id": "kk0JXVYyq9QN"
      },
      "execution_count": null,
      "outputs": []
    },
    {
      "cell_type": "code",
      "source": [
        "# now, we have to test the model.\n",
        "from pyAudioAnalysis import audioTrainTest as ATT\n",
        "\n",
        "# depending on which model is inside the models folder, change the paramter below\n",
        "model_choice = [\"means\", \"med\"]\n",
        "choice = 0\n",
        "choice_activated = model_choice[choice] # change between 0 and 1\n",
        "\n",
        "# First, locate the folder where the model exists.\n",
        "# Note that the Audio_Train notebook saves the model as AudioPredictModel.\n",
        "# the _csvfile suffix is to be ignored. If we have multiple models, we may want\n",
        "# to move one temporarily to another folder...\n",
        "model_path = f\"{os.getcwd()}/models/AudioPredictModel80\"\n",
        "\n",
        "# we will assume that there is an audiotest folder, which stores the audio to\n",
        "# be tested.\n",
        "\n",
        "test_path = f\"{os.getcwd()}/testaudiodata/\" # testaudiodata to test with the 20 unknown\n",
        "\n",
        "# we retrieve a list of audio files in the test folder\n",
        "stream = os.popen(f\"ls {test_path}\")\n",
        "audio_names = stream.read().split('\\n')[0:-1] # [0:-1] since default has an empty element, [1:-1] if /models/ in audiotest\n",
        "model_type = \"randomforest\" # other option is knn or svm - check docs\n",
        "# https://github.com/tyiannak/pyAudioAnalysis/blob/master/pyAudioAnalysis/audioTrainTest.py L. 368.\n",
        "\n",
        "results = []\n",
        "\n",
        "for i, audio_name in enumerate(audio_names):\n",
        "  res = ATT.file_regression(test_path+audio_name, model_path, model_type)\n",
        "  results.append(res[0][0])\n",
        "\n",
        "# we now show the results\n",
        "predicted = [z for z in zip(audio_names, results)]\n",
        "print(f\"predicted {len(predicted)} elements.\")\n",
        "print(results)\n",
        "\n",
        "# read in the ground truths\n",
        "mid_truths_path = f\"/content/testgroundtruth/annotate_with_{choice_activated}20SVM.csv\"\n",
        "mid_truths = pd.read_csv(mid_truths_path, header=None)\n",
        "ymid = mid_truths[mid_truths.columns[1]].tolist()\n",
        "\n",
        "print(f\"Ground truth {len(ymid)} elements.\")\n",
        "print(ymid)\n",
        "\n",
        "# calculate the RMSE score comparing to ground truth\n",
        "score = calc_RMSE(results, ymid)\n",
        "print(f\"The RMSE score is {score} for {model_choice[choice]}\")"
      ],
      "metadata": {
        "id": "-nA67tPigUcB",
        "colab": {
          "base_uri": "https://localhost:8080/"
        },
        "outputId": "06f10825-2153-4dcf-c9be-8f6f4e56a995"
      },
      "execution_count": null,
      "outputs": [
        {
          "output_type": "stream",
          "name": "stdout",
          "text": [
            "predicted 251 elements.\n",
            "[0.03000000000000004, -0.5280000000000006, 0.045, 0.25499999999999984, 0.08199999999999999, 0.3289999999999999, -0.696, -0.6300000000000007, -0.5330000000000003, -0.5180000000000006, -0.5160000000000005, -0.2849999999999997, -0.473, -0.16999999999999982, -0.37599999999999995, -0.5479999999999999, -0.6470000000000007, -0.4710000000000004, -0.5100000000000005, -0.40099999999999947, -0.134, -0.5450000000000006, -0.7299999999999993, -0.3579999999999997, -0.14700000000000002, -0.6390000000000001, -0.06099999999999988, -0.12599999999999986, -0.14799999999999996, 0.057, -0.04199999999999997, -0.021999999999999978, 0.08800000000000002, 0.32800000000000046, -0.43200000000000005, -0.3370000000000002, -0.24399999999999966, -0.5530000000000005, -0.48899999999999977, -0.32000000000000034, -0.5189999999999998, 0.21300000000000005, 0.07099999999999988, -0.41400000000000003, -0.030000000000000027, 0.10699999999999983, -0.6090000000000008, -0.4040000000000001, -0.49099999999999944, -0.6060000000000008, -0.6380000000000002, -0.8000000000000002, -0.7449999999999991, 0.050000000000000044, 0.259, -0.2839999999999997, -0.18099999999999994, -0.25800000000000034, 0.02100000000000003, -0.7390000000000001, -0.3159999999999996, -0.3469999999999997, -0.15200000000000002, -0.08200000000000013, -0.34000000000000014, -0.4179999999999994, -0.49600000000000044, -0.3869999999999995, -0.23199999999999998, -0.3790000000000001, -0.3589999999999997, -0.2999999999999997, 0.05599999999999998, -0.4239999999999997, -0.5730000000000007, -0.6450000000000009, -0.35799999999999976, -0.7310000000000002, -0.6199999999999996, -0.03200000000000001, -0.20499999999999974, -0.44000000000000017, -0.43800000000000006, -0.35500000000000015, -0.2669999999999997, -0.694000000000001, -0.32000000000000006, -0.4499999999999995, -0.31800000000000034, -0.4739999999999999, -0.32899999999999957, -0.36, -0.6319999999999999, -0.6599999999999991, -0.7009999999999988, -0.648999999999999, 0.011999999999999995, -0.41999999999999965, -0.16399999999999992, -0.429, -0.6150000000000007, -0.2809999999999997, -0.6620000000000007, -0.23499999999999965, -0.6180000000000002, -0.6650000000000008, -0.4739999999999994, -0.07100000000000002, -0.11899999999999984, -0.12200000000000003, -0.04799999999999999, -0.2830000000000003, -0.37699999999999967, 0.15499999999999975, -0.08199999999999989, -0.25500000000000034, 0.2769999999999998, -0.12799999999999997, -0.5740000000000007, 0.10599999999999996, -0.6500000000000006, 0.0070000000000000565, -0.09200000000000001, -0.8060000000000003, -0.6819999999999992, -0.19699999999999973, -0.10500000000000002, 0.04000000000000004, -0.304, -0.1609999999999998, -0.5910000000000006, -0.3019999999999996, -0.3180000000000003, -0.10299999999999983, -0.09999999999999998, 0.07699999999999999, 0.030000000000000016, -0.20400000000000024, -0.2580000000000003, -0.014000000000000002, -0.006000000000000001, -0.06399999999999992, -0.39099999999999996, -0.6050000000000008, -0.35899999999999954, -0.22200000000000014, 0.0769999999999999, -0.4170000000000005, -0.3729999999999996, -0.6539999999999996, -0.4849999999999996, -0.15899999999999995, -0.37999999999999995, -0.6570000000000004, -0.2770000000000003, -0.5940000000000005, -0.7810000000000004, -0.17300000000000001, -0.06400000000000002, -0.3359999999999996, 0.056999999999999974, 0.03300000000000001, -0.6590000000000009, -0.508, -0.22199999999999978, -0.1969999999999998, 0.05499999999999999, -0.3879999999999996, -0.5009999999999998, -0.46800000000000047, -0.06100000000000001, -0.55, -0.4279999999999996, -0.3459999999999996, -0.2659999999999997, -0.23999999999999994, -0.19799999999999973, -0.6209999999999993, -0.507, -0.39299999999999957, -0.6369999999999999, -0.5710000000000006, -0.18099999999999972, 0.02400000000000004, -0.26599999999999996, -0.10100000000000003, -0.023, -0.7100000000000002, -0.6250000000000007, -0.5130000000000001, -0.5439999999999999, -0.024999999999999994, 0.22099999999999986, -0.46099999999999935, 0.10900000000000004, 0.03700000000000001, 0.5619999999999995, 0.030000000000000013, 0.13899999999999985, 0.1320000000000001, -0.10400000000000008, -0.11099999999999995, -0.2599999999999997, -0.2550000000000003, -0.3169999999999997, -0.52, -0.512, -0.4549999999999996, -0.4620000000000001, -0.5640000000000007, -0.8080000000000005, -0.8300000000000004, 0.05000000000000002, 0.29900000000000015, -0.680999999999999, 0.0899999999999999, -0.09100000000000005, -0.4099999999999995, -0.4800000000000001, -0.35899999999999993, -0.6250000000000004, -0.2529999999999997, -0.3919999999999995, -0.21599999999999972, -0.3619999999999994, -0.13899999999999993, -0.37499999999999944, -0.35899999999999965, -0.015000000000000012, -0.059000000000000004, -0.5950000000000008, -0.4869999999999998, -0.25800000000000023, -0.345, 0.6139999999999994, 0.16200000000000017, 0.29099999999999965, 0.10199999999999998, -0.2629999999999996, -0.12099999999999991, 0.17000000000000007, 0.054999999999999945, -0.41899999999999993, -0.5940000000000006, -0.5980000000000009, -0.24699999999999964, -0.34800000000000003, -0.6720000000000002, -0.705, -0.3440000000000001, -0.25099999999999967]\n",
            "Ground truth 251 elements.\n",
            "[0.1, -0.6, -0.5, -0.3, -0.5, -0.0, -0.3, -0.1, 0.1, -0.9, -0.7, 0.1, 0.4, -0.3, -0.3, 0.0, -1.0, -0.3, -0.2, 0.0, -0.7, -0.5, 0.2, -0.2, -0.2, -0.7, -0.2, -0.8, -0.4, -0.9, -0.4, -0.7, -0.9, -0.4, -0.6, -0.4, 0.1, 0.4, -0.2, -0.4, -0.1, -0.4, -0.2, 0.5, -0.4, -0.6, -0.7, 0.7, -0.4, -0.4, -0.1, -0.1, -0.5, -0.1, 0.5, -0.3, -0.8, -0.1, 0.1, 0.2, -0.5, -0.0, -0.6, -0.5, -0.4, 0.8, -1.0, -0.9, 0.3, -0.5, -0.0, -0.9, -0.6, -0.7, -0.2, -0.7, -0.7, -0.0, -0.3, -0.3, -0.1, -0.5, -0.2, -0.3, 0.1, -0.5, -0.4, -0.8, 0.4, 0.1, -0.2, 0.1, -0.2, 0.1, -0.3, -0.5, -0.4, -0.7, -0.1, -0.1, -0.1, -0.3, -0.4, 0.2, -0.1, -0.3, 0.1, -0.3, -0.6, -0.5, 0.2, -0.2, -1.0, 0.2, 0.1, -0.7, 0.2, -0.4, -0.6, -0.8, 0.1, -0.1, -0.9, -0.6, -0.7, -0.6, -0.2, -0.3, -0.7, -0.0, -0.3, 0.3, -0.4, -0.2, -0.7, -0.2, 0.1, -0.5, -0.3, -0.7, 0.0, 0.1, -0.5, 0.0, -0.2, 0.0, -0.7, -0.8, -0.4, -0.4, -0.6, -0.7, 0.4, 0.1, -0.3, -0.8, 0.1, -0.0, -0.4, -0.2, -0.9, 0.2, -0.1, -0.6, -0.0, 0.4, -0.3, -0.7, 0.1, -0.6, -0.7, -0.1, 0.0, -1.0, -0.4, -0.1, -0.0, 0.5, -0.3, -0.4, -0.9, -0.2, -0.3, -0.3, -0.2, -0.3, -0.2, 0.3, -0.6, -0.2, -0.7, -0.4, -0.4, -0.2, -0.2, -0.9, 0.2, 0.9, 0.0, -0.6, 0.0, -0.8, -0.6, 0.5, -0.6, -0.3, 0.6, 0.1, -0.2, -0.4, 0.1, -0.9, -0.7, -0.4, 0.3, 0.4, -0.7, -0.5, -0.2, -0.4, -0.4, -0.4, -0.9, -0.5, -0.2, -0.4, 0.0, -0.4, 0.3, -0.6, -0.5, -0.6, -0.5, -0.8, -0.6, 0.0, 0.0, -0.2, -0.3, -0.2, -0.4, -0.9, -0.5, -0.9, -0.8, -0.2, 0.0, -0.3, 0.1, -0.4, -0.2]\n",
            "The RMSE score is 0.46420718087176155 for means\n"
          ]
        }
      ]
    },
    {
      "cell_type": "code",
      "source": [
        "# if we want to rerun the code cell above with median model, change the mean_truths_path name\n",
        "# we'll also swap the models out here\n",
        "!mv /content/models/AudioPredictModel80SVM_annotate_with_means80SVM /content/testgroundtruth/\n",
        "!mv /content/models/AudioPredictModel80SVM_annotate_with_means80SVMMEANS /content/testgroundtruth/\n",
        "!mv /content/testgroundtruth/AudioPredictModel80SVM_annotate_with_med80SVM /content/models/\n",
        "!mv /content/testgroundtruth/AudioPredictModel80SVM_annotate_with_med80SVMMEANS /content/models/"
      ],
      "metadata": {
        "id": "A1f9FI990o8J"
      },
      "execution_count": null,
      "outputs": []
    },
    {
      "cell_type": "code",
      "source": [
        "# if we want to swap them back again (testing with means), run this...\n",
        "!mv /content/models/AudioPredictModel80SVM_annotate_with_med80SVM /content/testgroundtruth/\n",
        "!mv /content/models/AudioPredictModel80SVM_annotate_with_med80SVMMEANS /content/testgroundtruth/\n",
        "!mv /content/testgroundtruth/AudioPredictModel80SVM_annotate_with_means80SVM /content/models/\n",
        "!mv /content/testgroundtruth/AudioPredictModel80SVM_annotate_with_means80SVMMEANS /content/models/"
      ],
      "metadata": {
        "id": "glw_lvHs56ti",
        "colab": {
          "base_uri": "https://localhost:8080/"
        },
        "outputId": "f0136a1f-265f-41fe-d8bd-08634f1a54dd"
      },
      "execution_count": null,
      "outputs": [
        {
          "output_type": "stream",
          "name": "stdout",
          "text": [
            "mv: cannot stat '/content/models/AudioPredictModel80SVM_annotate_with_med80SVM': No such file or directory\n",
            "mv: cannot stat '/content/models/AudioPredictModel80SVM_annotate_with_med80SVMMEANS': No such file or directory\n",
            "mv: cannot stat '/content/testgroundtruth/AudioPredictModel80SVM_annotate_with_means80SVM': No such file or directory\n",
            "mv: cannot stat '/content/testgroundtruth/AudioPredictModel80SVM_annotate_with_means80SVMMEANS': No such file or directory\n"
          ]
        }
      ]
    },
    {
      "cell_type": "markdown",
      "source": [
        "# Visualization\n",
        "\n",
        "This section is for visualizing the results. We want to see, in addition to the\n",
        "RMSE, what the individual errors are. Therefore, we map a scatterplot.\n",
        "Furthermore, we want to see how the data distributes, so we present it\n",
        "in a histogram."
      ],
      "metadata": {
        "id": "5Ako0efG2rEO"
      }
    },
    {
      "cell_type": "code",
      "source": [
        "# If we're plotting some results, let's import matplotlib.\n",
        "import matplotlib.pyplot as pplt"
      ],
      "metadata": {
        "id": "cbw5AosgcWw_"
      },
      "execution_count": null,
      "outputs": []
    },
    {
      "cell_type": "code",
      "source": [
        "# plotting the residuals - otherwise known as absolute error\n",
        "residuals_abs = np.absolute(np.array(results) - np.array(ymid))\n",
        "pplt.scatter(np.arange(len(residuals_abs)), residuals_abs)\n",
        "pplt.xlabel(\"Sample number\")\n",
        "pplt.ylabel(\"Absolute error\")\n",
        "pplt.title(\"Absolute error of test data\")"
      ],
      "metadata": {
        "colab": {
          "base_uri": "https://localhost:8080/",
          "height": 312
        },
        "id": "p2ObtOeqfEXV",
        "outputId": "7b36e87a-6580-4388-c43c-8a98570830d4"
      },
      "execution_count": null,
      "outputs": [
        {
          "output_type": "execute_result",
          "data": {
            "text/plain": [
              "Text(0.5, 1.0, 'Absolute error of SVM test data')"
            ]
          },
          "metadata": {},
          "execution_count": 10
        },
        {
          "output_type": "display_data",
          "data": {
            "text/plain": [
              "<Figure size 432x288 with 1 Axes>"
            ],
            "image/png": "[encoded data removed]"
          },
          "metadata": {
            "needs_background": "light"
          }
        }
      ]
    },
    {
      "cell_type": "code",
      "source": [
        "# We also plot the distribution of predicted values. Offset is used to compare\n",
        "# how the model otherwise would have looked if prediction results were to be\n",
        "# nudged by a constant.\n",
        "\n",
        "offset = 0.25\n",
        "offsetresults = [r+offset for r in results]\n",
        "\n",
        "pplt.hist(offsetresults, bins=10, edgecolor = \"black\")\n",
        "pplt.title(\"Histogram of audio predicted values (random forest)\")\n",
        "pplt.xticks(np.arange(-1, 1, 0.2))\n",
        "pplt.xlabel(\"range of predicted values\")\n",
        "pplt.ylabel(\"count\")"
      ],
      "metadata": {
        "id": "g9dHua36fUmv",
        "colab": {
          "base_uri": "https://localhost:8080/",
          "height": 312
        },
        "outputId": "d7253ae3-0bc0-4f54-ae64-070a8930c3f7"
      },
      "execution_count": null,
      "outputs": [
        {
          "output_type": "execute_result",
          "data": {
            "text/plain": [
              "Text(0, 0.5, 'count')"
            ]
          },
          "metadata": {},
          "execution_count": 36
        },
        {
          "output_type": "display_data",
          "data": {
            "text/plain": [
              "<Figure size 432x288 with 1 Axes>"
            ],
            "image/png": "[encoded data removed]"
          },
          "metadata": {
            "needs_background": "light"
          }
        }
      ]
    },
    {
      "cell_type": "code",
      "source": [
        "# count how many datapoints are negative and positive\n",
        "neg = 0\n",
        "pos = 0\n",
        "for result in offsetresults:\n",
        "  if(result<0):\n",
        "    neg += 1\n",
        "  else:\n",
        "    pos += 1\n",
        "\n",
        "print(neg, pos)"
      ],
      "metadata": {
        "colab": {
          "base_uri": "https://localhost:8080/"
        },
        "id": "cILaCz9mwzMk",
        "outputId": "1e5bf69c-a359-4589-edb7-a910a675c6db"
      },
      "execution_count": null,
      "outputs": [
        {
          "output_type": "stream",
          "name": "stdout",
          "text": [
            "161 90\n"
          ]
        }
      ]
    },
    {
      "cell_type": "code",
      "source": [
        "# also check the histogram distribution of the data\n",
        "fullframe = pd.read_csv(\"/content/testgroundtruth/annotate_with_means.csv\", header=None)\n",
        "annovalues = fullframe[fullframe.columns[np.r_[1]]].values.reshape(1, -1)[0]\n",
        "\n",
        "pplt.hist(annovalues, bins=10, edgecolor = \"black\")\n",
        "pplt.title(\"Histogram of known audio values (random forest)\")\n",
        "pplt.xticks(np.arange(-1, 1, 0.2))\n",
        "pplt.xlabel(\"range of predicted values\")\n",
        "pplt.ylabel(\"count\")"
      ],
      "metadata": {
        "colab": {
          "base_uri": "https://localhost:8080/",
          "height": 312
        },
        "id": "3pi9-k2T0QrG",
        "outputId": "b32cd2e9-0a0c-46e3-b9d4-a0b46f5c4446"
      },
      "execution_count": null,
      "outputs": [
        {
          "output_type": "execute_result",
          "data": {
            "text/plain": [
              "Text(0, 0.5, 'count')"
            ]
          },
          "metadata": {},
          "execution_count": 49
        },
        {
          "output_type": "display_data",
          "data": {
            "text/plain": [
              "<Figure size 432x288 with 1 Axes>"
            ],
            "image/png": "[encoded data removed]"
          },
          "metadata": {
            "needs_background": "light"
          }
        }
      ]
    }
  ],
  "metadata": {
    "colab": {
      "collapsed_sections": [],
      "name": "Audio_Train.ipynb",
      "provenance": []
    },
    "kernelspec": {
      "display_name": "Python 3",
      "name": "python3"
    },
    "language_info": {
      "name": "python"
    }
  },
  "nbformat": 4,
  "nbformat_minor": 0
}