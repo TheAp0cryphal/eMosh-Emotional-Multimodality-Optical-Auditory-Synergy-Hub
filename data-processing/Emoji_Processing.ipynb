{
  "nbformat": 4,
  "nbformat_minor": 0,
  "metadata": {
    "colab": {
      "name": "Emoji_Processing.ipynb",
      "provenance": [],
      "collapsed_sections": []
    },
    "kernelspec": {
      "name": "python3",
      "display_name": "Python 3"
    },
    "language_info": {
      "name": "python"
    }
  },
  "cells": [
    {
      "cell_type": "code",
      "execution_count": null,
      "metadata": {
        "id": "Xtq61MbUkRN0",
        "colab": {
          "base_uri": "https://localhost:8080/"
        },
        "outputId": "bc21cecf-e17e-442a-efa3-a13de30a58b1"
      },
      "outputs": [
        {
          "output_type": "stream",
          "name": "stdout",
          "text": [
            "mkdir: cannot create directory ‘csvfiles’: File exists\n"
          ]
        }
      ],
      "source": [
        "!mkdir csvfiles\n",
        "!mv /content/*.csv /content/csvfiles/"
      ]
    },
    {
      "cell_type": "markdown",
      "source": [
        "# Emoji Annotation Processing Notebook\n",
        "Similar to the audio annotating processing notebook, this one will be used to\n",
        "process emojis. We will load in individual csv annotations, then perform\n",
        "averages. We will also sort the emoji files in order of the name. Duplicates\n",
        "will be removed. We will use a first-come-first-serve basis for conflicts\n",
        "of coordinates."
      ],
      "metadata": {
        "id": "UpWJsccVkUnL"
      }
    },
    {
      "cell_type": "code",
      "source": [
        "# function for remapping intervals [a, b] to [c, d] - linear\n",
        "def remap(x, r1, r2):\n",
        "  # r1 = [left, right], r2 = [left, right]\n",
        "  m = (r2[1]-r2[0])/(r1[1]-r1[0])\n",
        "  b = r2[1]-m*r1[1]\n",
        "  y = m*x + b\n",
        "  return y\n"
      ],
      "metadata": {
        "colab": {
          "base_uri": "https://localhost:8080/"
        },
        "id": "ckSNFrjfh_Ix",
        "outputId": "f1c7f00c-19b0-413a-8f3d-1bee610b7a3f"
      },
      "execution_count": null,
      "outputs": [
        {
          "output_type": "stream",
          "name": "stdout",
          "text": [
            "1.0\n"
          ]
        }
      ]
    },
    {
      "cell_type": "code",
      "source": [
        "# First, let's import all the libraries we will be working with.\n",
        "\n",
        "import pandas as pd\n",
        "import numpy as np\n",
        "\n",
        "# We begin by reading in all of the csv files.\n",
        "\n",
        "names = [\"john_emoji\", \"kodai_emoji\", \"sam_emoji\", \"tanishk_emoji\"]\n",
        "\n",
        "base_path = \"/content/csvfiles/\"\n",
        "john_csv = base_path+names[0]+\".csv\"\n",
        "kodai_csv = base_path+names[1]+\".csv\"\n",
        "sam_csv = base_path+names[2]+\".csv\"\n",
        "tanishk_csv = base_path+names[3]+\".csv\"\n",
        "\n",
        "group_csv_paths = [john_csv, kodai_csv, sam_csv, tanishk_csv]\n",
        "dframes = []\n",
        "for csv in group_csv_paths:\n",
        "  csvfile = pd.read_csv(csv)\n",
        "  dframes.append(csvfile)\n",
        "\n",
        "# Now, we should have a list of csv files. \n",
        "# We begin by sorting the dataframes according to filenames (url column).\n",
        "for i, dframe in enumerate(dframes):\n",
        "  dframe[\"image\"] = dframe[\"image\"].map(lambda x: x.split('-',1)[1])\n",
        "  dframe[\"arousal\"] = dframe[\"arousal\"].map(lambda a: remap((a-1)/6, [0, 1], [-1, 1]))\n",
        "  dframe[\"valence\"] = dframe[\"valence\"].map(lambda v: remap((v-1)/6, [0, 1], [-1, 1]))\n",
        "  dframes[i] = dframe.sort_values(\"image\")\n",
        "\n",
        "# Did the sort work correctly? Let's print them out.\n",
        "for i, dframe in enumerate(dframes):\n",
        "  outcols = dframe[dframe.columns[np.r_[0, 2, 3]]].head(10)\n",
        "  print(f\"Dataframe {i+1}\\n{outcols}\\n\")\n"
      ],
      "metadata": {
        "colab": {
          "base_uri": "https://localhost:8080/"
        },
        "id": "-8OvJxZjkcOM",
        "outputId": "01d515ac-ac2a-4327-d85f-31591571e877"
      },
      "execution_count": null,
      "outputs": [
        {
          "output_type": "stream",
          "name": "stdout",
          "text": [
            "Dataframe 1\n",
            "                                       image   valence   arousal\n",
            "2                       angry-face_1f620.png -1.000000  0.666667\n",
            "1                   anguished-face_1f627.png -0.666667  0.333333\n",
            "0          anxious-face-with-sweat_1f630.png -0.333333  0.000000\n",
            "15                 astonished-face_1f632.png  0.000000  0.666667\n",
            "41  beaming-face-with-smiling-eyes_1f601.png  0.666667  1.000000\n",
            "13                 confounded-face_1f616.png -0.666667  0.333333\n",
            "83                   confused-face_1f615.png -0.333333  0.000000\n",
            "81                     crying-face_1f622.png -0.333333 -0.333333\n",
            "48               disappointed-face_1f61e.png -0.666667  0.000000\n",
            "85                      dizzy-face_1f635.png -0.333333  0.666667\n",
            "\n",
            "Dataframe 2\n",
            "                                       image   arousal   valence\n",
            "61                      angry-face_1f620.png  0.666667 -0.666667\n",
            "35                  anguished-face_1f627.png -0.333333 -0.333333\n",
            "86         anxious-face-with-sweat_1f630.png  0.666667 -1.000000\n",
            "15                 astonished-face_1f632.png  0.333333  0.000000\n",
            "73  beaming-face-with-smiling-eyes_1f601.png  0.333333  0.666667\n",
            "36                 confounded-face_1f616.png  0.333333 -0.666667\n",
            "50                   confused-face_1f615.png  0.000000 -0.333333\n",
            "82                     crying-face_1f622.png  0.333333 -1.000000\n",
            "13               disappointed-face_1f61e.png -0.666667 -0.666667\n",
            "74                      dizzy-face_1f635.png -1.000000 -0.333333\n",
            "\n",
            "Dataframe 3\n",
            "                                       image   valence   arousal\n",
            "27                      angry-face_1f620.png -0.666667  0.333333\n",
            "18                  anguished-face_1f627.png -0.333333  0.333333\n",
            "84         anxious-face-with-sweat_1f630.png -1.000000  0.666667\n",
            "17                 astonished-face_1f632.png -0.333333  0.666667\n",
            "0   beaming-face-with-smiling-eyes_1f601.png  0.666667  0.333333\n",
            "86                 confounded-face_1f616.png -0.666667  0.000000\n",
            "3                    confused-face_1f615.png -0.333333 -0.333333\n",
            "8                      crying-face_1f622.png -0.333333  0.000000\n",
            "76               disappointed-face_1f61e.png -0.333333 -0.333333\n",
            "77                      dizzy-face_1f635.png -0.666667  0.333333\n",
            "\n",
            "Dataframe 4\n",
            "                                       image   arousal   valence\n",
            "87                      angry-face_1f620.png  0.666667 -1.000000\n",
            "86                  anguished-face_1f627.png  0.333333 -0.666667\n",
            "85         anxious-face-with-sweat_1f630.png  0.666667 -1.000000\n",
            "84                 astonished-face_1f632.png  1.000000  0.333333\n",
            "83  beaming-face-with-smiling-eyes_1f601.png  0.666667  0.666667\n",
            "82                 confounded-face_1f616.png  0.000000 -0.333333\n",
            "81                   confused-face_1f615.png -0.666667 -0.333333\n",
            "80                     crying-face_1f622.png -0.333333 -0.666667\n",
            "79               disappointed-face_1f61e.png -0.666667 -0.666667\n",
            "78                      dizzy-face_1f635.png -0.333333 -0.666667\n",
            "\n"
          ]
        }
      ]
    },
    {
      "cell_type": "code",
      "source": [
        "# Before we calculate the average, we will need to extract the relevant\n",
        "# columns into one dataframe for processing. So, let's make an\n",
        "# intermediate dataframe.\n",
        "\n",
        "# Build the intermediate dataframe\n",
        "processframe = pd.DataFrame()\n",
        "# First column is the file name\n",
        "processframe[\"image\"] = dframes[0][\"image\"].tolist()\n",
        "# For the next 4 columns, we'll extract our individual annotations.\n",
        "for i, dframe in enumerate(dframes):\n",
        "  annotated_column_val = dframe[\"valence\"].to_numpy()\n",
        "  annotated_column_arou = dframe[\"arousal\"].to_numpy()\n",
        "  processframe[f\"{names[i]}_valence\"] = pd.Series(annotated_column_val)\n",
        "  processframe[f\"{names[i]}_arousal\"] = pd.Series(annotated_column_arou)\n",
        "\n",
        "\n",
        "# Just to make sure nothing went wrong, let's take a peek at the result\n",
        "print(processframe.head(5))"
      ],
      "metadata": {
        "colab": {
          "base_uri": "https://localhost:8080/"
        },
        "id": "GnghrOdIk1Bq",
        "outputId": "38b535de-9ea2-47e5-c4bb-5eedd028321d"
      },
      "execution_count": null,
      "outputs": [
        {
          "output_type": "stream",
          "name": "stdout",
          "text": [
            "                                      image  john_emoji_valence  \\\n",
            "0                      angry-face_1f620.png           -1.000000   \n",
            "1                  anguished-face_1f627.png           -0.666667   \n",
            "2         anxious-face-with-sweat_1f630.png           -0.333333   \n",
            "3                 astonished-face_1f632.png            0.000000   \n",
            "4  beaming-face-with-smiling-eyes_1f601.png            0.666667   \n",
            "\n",
            "   john_emoji_arousal  kodai_emoji_valence  kodai_emoji_arousal  \\\n",
            "0            0.666667            -0.666667             0.666667   \n",
            "1            0.333333            -0.333333            -0.333333   \n",
            "2            0.000000            -1.000000             0.666667   \n",
            "3            0.666667             0.000000             0.333333   \n",
            "4            1.000000             0.666667             0.333333   \n",
            "\n",
            "   sam_emoji_valence  sam_emoji_arousal  tanishk_emoji_valence  \\\n",
            "0          -0.666667           0.333333              -1.000000   \n",
            "1          -0.333333           0.333333              -0.666667   \n",
            "2          -1.000000           0.666667              -1.000000   \n",
            "3          -0.333333           0.666667               0.333333   \n",
            "4           0.666667           0.333333               0.666667   \n",
            "\n",
            "   tanishk_emoji_arousal  \n",
            "0               0.666667  \n",
            "1               0.333333  \n",
            "2               0.666667  \n",
            "3               1.000000  \n",
            "4               0.666667  \n"
          ]
        }
      ]
    },
    {
      "cell_type": "code",
      "source": [
        "# We will now take the average and store it in the next column.\n",
        "processframe[\"mean_val\"] = processframe[processframe.columns[np.r_[1, 3, 5, 7]]].mean(axis=1).round(5)\n",
        "processframe[\"mean_arou\"] = processframe[processframe.columns[np.r_[2, 4, 6, 8]]].mean(axis=1).round(5)\n",
        "processframe[\"median_val\"] = processframe[processframe.columns[np.r_[1, 3, 5, 7]]].median(axis=1).round(5)\n",
        "processframe[\"median_arou\"] = processframe[processframe.columns[np.r_[2, 4, 6, 8]]].median(axis=1).round(5)\n",
        "\n",
        "# for a sanity check, we should manually calculate a few rows to make sure\n",
        "# we're doing what we intend to.\n",
        "print(processframe.head(15))"
      ],
      "metadata": {
        "colab": {
          "base_uri": "https://localhost:8080/"
        },
        "id": "mBIxL3kGnPwp",
        "outputId": "701d9f33-bc6b-4734-b571-75f5ebec5e98"
      },
      "execution_count": null,
      "outputs": [
        {
          "output_type": "stream",
          "name": "stdout",
          "text": [
            "                                       image  john_emoji_valence  \\\n",
            "0                       angry-face_1f620.png           -1.000000   \n",
            "1                   anguished-face_1f627.png           -0.666667   \n",
            "2          anxious-face-with-sweat_1f630.png           -0.333333   \n",
            "3                  astonished-face_1f632.png            0.000000   \n",
            "4   beaming-face-with-smiling-eyes_1f601.png            0.666667   \n",
            "5                  confounded-face_1f616.png           -0.666667   \n",
            "6                    confused-face_1f615.png           -0.333333   \n",
            "7                      crying-face_1f622.png           -0.333333   \n",
            "8                disappointed-face_1f61e.png           -0.666667   \n",
            "9                       dizzy-face_1f635.png           -0.333333   \n",
            "10        downcast-face-with-sweat_1f613.png           -0.666667   \n",
            "11                   drooling-face_1f924.png            0.333333   \n",
            "12             expressionless-face_1f611.png           -0.666667   \n",
            "13             face-blowing-a-kiss_1f618.png            0.333333   \n",
            "14        face-exhaling_1f62e-200d-1f4a8.png           -0.666667   \n",
            "\n",
            "    john_emoji_arousal  kodai_emoji_valence  kodai_emoji_arousal  \\\n",
            "0             0.666667            -0.666667             0.666667   \n",
            "1             0.333333            -0.333333            -0.333333   \n",
            "2             0.000000            -1.000000             0.666667   \n",
            "3             0.666667             0.000000             0.333333   \n",
            "4             1.000000             0.666667             0.333333   \n",
            "5             0.333333            -0.666667             0.333333   \n",
            "6             0.000000            -0.333333             0.000000   \n",
            "7            -0.333333            -1.000000             0.333333   \n",
            "8             0.000000            -0.666667            -0.666667   \n",
            "9             0.666667            -0.333333            -1.000000   \n",
            "10           -0.333333            -0.333333            -0.666667   \n",
            "11           -0.666667             0.333333            -1.000000   \n",
            "12           -0.666667            -0.333333             0.000000   \n",
            "13            0.000000             0.333333             0.666667   \n",
            "14           -0.666667            -0.333333            -0.666667   \n",
            "\n",
            "    sam_emoji_valence  sam_emoji_arousal  tanishk_emoji_valence  \\\n",
            "0           -0.666667           0.333333              -1.000000   \n",
            "1           -0.333333           0.333333              -0.666667   \n",
            "2           -1.000000           0.666667              -1.000000   \n",
            "3           -0.333333           0.666667               0.333333   \n",
            "4            0.666667           0.333333               0.666667   \n",
            "5           -0.666667           0.000000              -0.333333   \n",
            "6           -0.333333          -0.333333              -0.333333   \n",
            "7           -0.333333           0.000000              -0.666667   \n",
            "8           -0.333333          -0.333333              -0.666667   \n",
            "9           -0.666667           0.333333              -0.666667   \n",
            "10          -0.666667          -0.333333              -0.666667   \n",
            "11           0.333333           0.333333               0.333333   \n",
            "12          -0.333333           0.000000              -0.333333   \n",
            "13           0.666667           0.666667               0.666667   \n",
            "14          -0.333333           0.000000              -0.666667   \n",
            "\n",
            "    tanishk_emoji_arousal  mean_val  mean_arou  median_val  median_arou  \n",
            "0                0.666667  -0.83333    0.58333    -0.83333      0.66667  \n",
            "1                0.333333  -0.50000    0.16667    -0.50000      0.33333  \n",
            "2                0.666667  -0.83333    0.50000    -1.00000      0.66667  \n",
            "3                1.000000  -0.00000    0.66667     0.00000      0.66667  \n",
            "4                0.666667   0.66667    0.58333     0.66667      0.50000  \n",
            "5                0.000000  -0.58333    0.16667    -0.66667      0.16667  \n",
            "6               -0.666667  -0.33333   -0.25000    -0.33333     -0.16667  \n",
            "7               -0.333333  -0.58333   -0.08333    -0.50000     -0.16667  \n",
            "8               -0.666667  -0.58333   -0.41667    -0.66667     -0.50000  \n",
            "9               -0.333333  -0.50000   -0.08333    -0.50000     -0.00000  \n",
            "10               0.000000  -0.58333   -0.33333    -0.66667     -0.33333  \n",
            "11              -0.333333   0.33333   -0.41667     0.33333     -0.50000  \n",
            "12               0.000000  -0.41667   -0.16667    -0.33333      0.00000  \n",
            "13               0.333333   0.50000    0.41667     0.50000      0.50000  \n",
            "14               0.000000  -0.50000   -0.33333    -0.50000     -0.33333  \n"
          ]
        }
      ]
    },
    {
      "cell_type": "code",
      "source": [
        "# Finally, let's save the two csv files.\n",
        "meanframe = processframe[processframe.columns[np.r_[0, 9, 10]]]\n",
        "medframe = processframe[processframe.columns[np.r_[0, 11, 12]]]\n",
        "\n",
        "# Finally, make sure this is also correct.\n",
        "print(f\"Using means:\\n{meanframe}\\n\")\n",
        "print(f\"Using medians:\\n{medframe}\\n\")\n",
        "\n",
        "# We will now save the CSV file.\n",
        "meanframe.to_csv(\"emoji_with_means.csv\", index=False, header=True)\n",
        "medframe.to_csv(\"emoji_with_med.csv\", index=False, header=True)"
      ],
      "metadata": {
        "colab": {
          "base_uri": "https://localhost:8080/"
        },
        "id": "NW3m1JVlnssx",
        "outputId": "5d0f763f-26e7-49f9-b48c-da1e3d967569"
      },
      "execution_count": null,
      "outputs": [
        {
          "output_type": "stream",
          "name": "stdout",
          "text": [
            "Using means:\n",
            "                                       image  mean_val  mean_arou\n",
            "0                       angry-face_1f620.png  -0.83333    0.58333\n",
            "1                   anguished-face_1f627.png  -0.50000    0.16667\n",
            "2          anxious-face-with-sweat_1f630.png  -0.83333    0.50000\n",
            "3                  astonished-face_1f632.png  -0.00000    0.66667\n",
            "4   beaming-face-with-smiling-eyes_1f601.png   0.66667    0.58333\n",
            "..                                       ...       ...        ...\n",
            "83                    winking-face_1f609.png   0.41667    0.08333\n",
            "84                      woozy-face_1f974.png   0.08333   -0.08333\n",
            "85                    worried-face_1f61f.png  -0.50000   -0.25000\n",
            "86                    yawning-face_1f971.png   0.00000   -0.83333\n",
            "87                       zany-face_1f92a.png   0.41667    0.41667\n",
            "\n",
            "[88 rows x 3 columns]\n",
            "\n",
            "Using medians:\n",
            "                                       image  median_val  median_arou\n",
            "0                       angry-face_1f620.png    -0.83333      0.66667\n",
            "1                   anguished-face_1f627.png    -0.50000      0.33333\n",
            "2          anxious-face-with-sweat_1f630.png    -1.00000      0.66667\n",
            "3                  astonished-face_1f632.png     0.00000      0.66667\n",
            "4   beaming-face-with-smiling-eyes_1f601.png     0.66667      0.50000\n",
            "..                                       ...         ...          ...\n",
            "83                    winking-face_1f609.png     0.33333      0.16667\n",
            "84                      woozy-face_1f974.png    -0.00000     -0.16667\n",
            "85                    worried-face_1f61f.png    -0.33333     -0.33333\n",
            "86                    yawning-face_1f971.png     0.00000     -0.83333\n",
            "87                       zany-face_1f92a.png     0.33333      0.33333\n",
            "\n",
            "[88 rows x 3 columns]\n",
            "\n"
          ]
        }
      ]
    },
    {
      "cell_type": "code",
      "source": [
        "# Generate the emoji dictionary, first come first serve unique values only\n",
        "emojimap = dict()\n",
        "rowcount = len(meanframe)\n",
        "\n",
        "for i in range(0, rowcount):\n",
        "  row = meanframe.iloc[i]\n",
        "  val = row[1]\n",
        "  arou = row[2]\n",
        "  emokey = (val, arou)\n",
        "  # if the value is unique, add it to our collection\n",
        "  if(emokey not in emojimap):\n",
        "    emojimap[emokey] = f\"0x{(row[0].split('_')[1]).split('.')[0]}\"\n",
        "\n",
        "print(emojimap)\n",
        "emojifile = open(\"/content/emojimap.txt\", 'w')\n",
        "emojifile.write(str(emojimap))\n",
        "emojifile.close()\n",
        "\n",
        "# This dictionary will then be used in our main code for determining which\n",
        "# emoji is displayed for some given emotion tuple.\n"
      ],
      "metadata": {
        "id": "e-GM1Xf5pVX4",
        "colab": {
          "base_uri": "https://localhost:8080/"
        },
        "outputId": "6b43bcd3-9b71-4215-b66e-5265ae59716b"
      },
      "execution_count": null,
      "outputs": [
        {
          "output_type": "stream",
          "name": "stdout",
          "text": [
            "{(-0.83333, 0.58333): '0x1f620', (-0.5, 0.16667): '0x1f627', (-0.83333, 0.5): '0x1f630', (-0.0, 0.66667): '0x1f632', (0.66667, 0.58333): '0x1f601', (-0.58333, 0.16667): '0x1f616', (-0.33333, -0.25): '0x1f615', (-0.58333, -0.08333): '0x1f622', (-0.58333, -0.41667): '0x1f61e', (-0.5, -0.08333): '0x1f635', (-0.58333, -0.33333): '0x1f613', (0.33333, -0.41667): '0x1f924', (-0.41667, -0.16667): '0x1f611', (0.5, 0.41667): '0x1f618', (-0.5, -0.33333): '0x1f62e-200d-1f4a8', (0.16667, 0.16667): '0x1f979', (0.66667, 0.33333): '0x1f60b', (-0.75, 0.91667): '0x1f631', (-1.0, 0.75): '0x1f92e', (-0.5, 0.0): '0x1fae4', (-0.08333, -0.16667): '0x1f9d0', (-0.08333, 0.08333): '0x1fae2', (-0.08333, 0.33333): '0x1f62e', (0.25, 0.08333): '0x1fae3', (-0.16667, -0.0): '0x1f928', (-0.33333, -0.41667): '0x1f644', (-0.66667, -0.33333): '0x1f635-200d-1f4ab', (-0.5, 0.66667): '0x1f624', (-1.0, 0.91667): '0x1f92c', (0.91667, 0.83333): '0x1f602', (-0.58333, 0.66667): '0x1f628', (-0.25, 0.41667): '0x1f633', (-0.58333, -0.16667): '0x2639-fe0f', (-0.5, 0.33333): '0x1f62c', (0.75, 0.58333): '0x1f604', (0.08333, 0.08333): '0x1f605', (0.5, -0.0): '0x1f600', (0.66667, 0.66667): '0x1f606', (0.83333, 0.41667): '0x1f917', (-0.08333, 0.5): '0x1f62f', (0.66667, 0.5): '0x1f61a', (0.58333, 0.16667): '0x1f619', (0.41667, 0.0): '0x1f617', (-0.83333, 0.83333): '0x1f62d', (-0.41667, -0.08333): '0x1f926-200d-2642-fe0f', (-0.66667, -0.5): '0x1f922', (0.5, 0.08333): '0x1f913', (0.83333, 0.83333): '0x1f973', (-0.41667, -0.58333): '0x1f614', (-0.5, 0.08333): '0x1f623', (-0.41667, 0.08333): '0x1f926', (0.58333, -0.83333): '0x1f60c', (0.08333, -1.0): '0x1f634', (0.0, -0.91667): '0x1f62a', (0.33333, -0.16667): '0x1f642', (0.5, -0.25): '0x1f607', (0.83333, 0.66667): '0x1f60d', (0.91667, 0.5): '0x1f970', (0.66667, 0.16667): '0x1f60a', (0.41667, 0.08333): '0x1f60e', (-0.41667, -0.25): '0x1f972', (0.75, 0.16667): '0x263a-fe0f', (0.16667, 0.08333): '0x1f60f', (-0.41667, 0.25): '0x1f927', (0.75, 0.66667): '0x1f61d', (-0.0, -0.25): '0x1f914', (-0.41667, 0.33333): '0x1f62b', (-0.33333, 0.08333): '0x1f612', (-0.5, -0.16667): '0x1f643', (0.5, 0.5): '0x1f61c', (0.08333, -0.08333): '0x1f974', (-0.5, -0.25): '0x1f61f', (0.0, -0.83333): '0x1f971', (0.41667, 0.41667): '0x1f92a'}\n"
          ]
        }
      ]
    },
    {
      "cell_type": "code",
      "source": [
        "# Now we want a plot of how the emojis spread.\n",
        "import matplotlib.pyplot as plt"
      ],
      "metadata": {
        "id": "69aqnqZHMyVg"
      },
      "execution_count": null,
      "outputs": []
    },
    {
      "cell_type": "code",
      "source": [
        "val_axis = meanframe[\"mean_val\"].to_numpy()\n",
        "arou_axis = meanframe[\"mean_arou\"].to_numpy()\n",
        "\n",
        "plt.scatter(val_axis, arou_axis)\n",
        "plt.grid()\n",
        "plt.title(\"Scatter of annotated Emojis by mean\")\n",
        "plt.xlabel(\"valence\")\n",
        "plt.ylabel(\"arousal\")\n",
        "plt.xlim([-1.1, 1.1])\n",
        "plt.ylim([-1.1, 1.1])"
      ],
      "metadata": {
        "colab": {
          "base_uri": "https://localhost:8080/",
          "height": 312
        },
        "id": "TZhMrij_gtxV",
        "outputId": "9aafabfe-fc85-4bc3-e47e-6014e09cf545"
      },
      "execution_count": null,
      "outputs": [
        {
          "output_type": "execute_result",
          "data": {
            "text/plain": [
              "(-1.1, 1.1)"
            ]
          },
          "metadata": {},
          "execution_count": 58
        },
        {
          "output_type": "display_data",
          "data": {
            "text/plain": [
              "<Figure size 432x288 with 1 Axes>"
            ],
            "image/png": "[encoded data removed]"
          },
          "metadata": {
            "needs_background": "light"
          }
        }
      ]
    },
    {
      "cell_type": "code",
      "source": [
        ""
      ],
      "metadata": {
        "id": "p-9kD_dfg6AW"
      },
      "execution_count": null,
      "outputs": []
    }
  ]
}